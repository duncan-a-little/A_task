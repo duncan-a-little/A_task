{
 "cells": [
  {
   "cell_type": "markdown",
   "metadata": {},
   "source": [
    "## This notebook loads the data, engineers features then saves the engineered dataset to a pickle file"
   ]
  },
  {
   "cell_type": "code",
   "execution_count": 2,
   "metadata": {
    "collapsed": true
   },
   "outputs": [],
   "source": [
    "import pandas as pd\n",
    "import numpy as np\n",
    "import datetime as dt"
   ]
  },
  {
   "cell_type": "markdown",
   "metadata": {},
   "source": [
    "## Create customer demographic dataframe, add the features listed below\n",
    "\n",
    "account_age - time since account was created in days. 'Now' is taken to be the most recent date in the receipt database, 30/3/2015\n",
    "\n",
    "account_age_months - same as above but in months rather than days\n",
    "\n",
    "customer_age - customer's age in years rounded down\n",
    "\n",
    "Additionally:\n",
    "\n",
    "Churn label is also converted from 2 and 1 to 1 and 0 (churn/not churn respectively)\n",
    "\n",
    "Dates are converted to datetime objects"
   ]
  },
  {
   "cell_type": "code",
   "execution_count": 11,
   "metadata": {
    "collapsed": false
   },
   "outputs": [],
   "source": [
    "def create_customer_df():\n",
    "    \n",
    "    ## latest date in receipt data\n",
    "    latest_date = dt.date(2014,3,30)\n",
    "\n",
    "    ## read customer demographic data and add header\n",
    "    customers_df = pd.read_table(\"customer/000000_0\",\n",
    "                                 header=None,\n",
    "                                 names = ['customer_id','churn_label',\n",
    "                                          'gender','country','date_created',\n",
    "                                          'YOB','premier'])\n",
    "    \n",
    "    ##convert churn label to 0 and 1\n",
    "    customers_df[\"churn_label\"] = customers_df[\"churn_label\"] - 1\n",
    "\n",
    "    ##convert date_created to datetime object\n",
    "    customers_df[\"date_created\"] = pd.to_datetime(customers_df[\"date_created\"])\n",
    "\n",
    "    ##convert year of birth to datetime object\n",
    "    customers_df[\"YOB\"] = pd.to_datetime(customers_df[\"YOB\"],format='%Y')\n",
    "\n",
    "    ##insert account age in days, most recent order in receipts data is 30/3/2014\n",
    "    customers_df[\"account_age\"] = (latest_date - customers_df[\"date_created\"]).dt.days\n",
    "\n",
    "    ##insert account age in months (rounded to nearest month), better for plotting\n",
    "    customers_df[\"account_age_months\"] = np.rint((latest_date - customers_df[\"date_created\"]).dt.days/(365/12))\n",
    "\n",
    "    ##insert customer age in years\n",
    "    customers_df[\"customer_age\"] = np.floor((latest_date - customers_df[\"YOB\"]).dt.days/365)\n",
    "    \n",
    "    return customers_df"
   ]
  },
  {
   "cell_type": "markdown",
   "metadata": {},
   "source": [
    "## Read receipt data and return data frame\n",
    "\n",
    "Convert signal_datetime to datetime object"
   ]
  },
  {
   "cell_type": "code",
   "execution_count": 18,
   "metadata": {
    "collapsed": true
   },
   "outputs": [],
   "source": [
    "def read_receipts_data():\n",
    "    \n",
    "    dfs_to_concat = []\n",
    "\n",
    "    for i in range(0,3):                                                            \n",
    "        dfs_to_concat.append(\n",
    "            pd.read_table(\"receipts/00000%d_0\" % i,header=None,names = ['customer_id','product_id',\n",
    "                                                                'source_id','division_id','item_qty',\n",
    "                                                                'signal_datetime','receipt_id','price']))\n",
    "        \n",
    "    receipts_df = pd.concat(dfs_to_concat)\n",
    "        \n",
    "    receipts_df[\"signal_datetime\"] = pd.to_datetime(receipts_df[\"signal_datetime\"])\n",
    "        \n",
    "    return receipts_df"
   ]
  },
  {
   "cell_type": "markdown",
   "metadata": {},
   "source": [
    "## Create order summary dataframe\n",
    "\n",
    "Dataframe contains a summary of each order. In the receipts data there is a row for every unique product in an order. These rows can be aggregated into a summary for each order by grouping them by receipt_id (the unique identifier of the order) and summing over price and number of items to give total order value and number of items bought for a given order."
   ]
  },
  {
   "cell_type": "code",
   "execution_count": 13,
   "metadata": {
    "collapsed": true
   },
   "outputs": [],
   "source": [
    "def create_order_summary_df(receipts_df):\n",
    "\n",
    "    ##group all orders (groupby columns are not aggregated) and sum over item_qty and price\n",
    "    ##to give total noumber of items and total order value\n",
    "    order_sum_df = receipts_df.groupby(\n",
    "        ['receipt_id','signal_datetime','customer_id']).sum().reset_index()\n",
    "\n",
    "    ##drop product_id, source_id, division_id columns as they are now meaningless (we have summed them up)\n",
    "    order_sum_df.drop(['product_id','source_id', 'division_id'], axis = 1, inplace = True)\n",
    "\n",
    "    ##add in date (used late for groupby operations)\n",
    "    order_sum_df[\"date\"] = order_sum_df[\"signal_datetime\"].dt.date\n",
    "    \n",
    "    return order_sum_df"
   ]
  },
  {
   "cell_type": "markdown",
   "metadata": {},
   "source": [
    "## Create customer's orders summary dataframe\n",
    "\n",
    "Dataframe contains a summary of all of a customer's orders."
   ]
  },
  {
   "cell_type": "code",
   "execution_count": 21,
   "metadata": {
    "collapsed": true
   },
   "outputs": [],
   "source": [
    "def create_customer_order_summary_df(receipts_df):\n",
    "    \n",
    "    ##group orders by customer id and aggregate by summing\n",
    "    customer_order_sum_df = receipts_df.groupby('customer_id').sum().reset_index()\n",
    "    \n",
    "    #drop meaningless columns (we have summed over them)\n",
    "    customer_order_sum_df.drop(\n",
    "    ['product_id','source_id', 'division_id','receipt_id'], axis = 1, inplace = True)\n",
    "    \n",
    "    #add rounded price for plotting\n",
    "    customer_order_sum_df[\"rounded_price\"] = np.rint(customer_order_sum_df[\"price\"])\n",
    "    \n",
    "    return customer_order_sum_df"
   ]
  },
  {
   "cell_type": "code",
   "execution_count": null,
   "metadata": {
    "collapsed": true
   },
   "outputs": [],
   "source": [
    "\n",
    "\n",
    "latest_date = dt.datetime(2014,4,30)\n",
    "\n",
    "#create time elapsed since last order feature\n",
    "last_order_df = pd.DataFrame(receipts_df.groupby(\"customer_id\")[\"signal_datetime\"].max()).reset_index()\n",
    "\n",
    "last_order_df.rename(columns={'signal_datetime': 'last_order_datetime'}, inplace=True)\n",
    "\n",
    "last_order_df[\"time_elapsed_since_last\"] = (latest_date - last_order_df[\"last_order_datetime\"]).dt.days\n",
    "\n",
    "customer_order_sum_df = pd.merge(\n",
    "    customer_order_sum_df,last_order_df[[\"customer_id\",\"time_elapsed_since_last\"]],on=\"customer_id\",how=\"left\")\n",
    "\n",
    "#add number of orders a customer has made\n",
    "num_of_orders = pd.DataFrame(order_sum_df.groupby([\"customer_id\"])[\"receipt_id\"].count()).reset_index()\n",
    "\n",
    "num_of_orders.columns = [\"customer_id\",\"no_of_orders\"]\n",
    "\n",
    "customer_order_sum_df = pd.merge(\n",
    "    customer_order_sum_df,num_of_orders[[\"customer_id\",\"no_of_orders\"]],on=\"customer_id\")\n",
    "\n",
    "#create number of orders in the last month, 6 months, year\n",
    "one_month_ago = latest_date - dt.timedelta(365/12)\n",
    "two_months_ago = latest_date - dt.timedelta(365/6)\n",
    "three_months_ago = latest_date - dt.timedelta(365/4)\n",
    "six_months_ago = latest_date - dt.timedelta(365/2)\n",
    "one_year_ago = latest_date - dt.timedelta(365)\n",
    "\n",
    "#create seperate dataframes containing all orders from the last month, 6months, year\n",
    "\n",
    "orders_last_month = order_sum_df[order_sum_df.signal_datetime > one_month_ago].groupby(\n",
    "    [\"customer_id\"])[\"receipt_id\"].count().reset_index()\n",
    "\n",
    "orders_last_month.rename(columns={'receipt_id': 'orders_last_month'}, inplace=True)\n",
    "\n",
    "                                            \n",
    "orders_last_2_months = order_sum_df[order_sum_df.signal_datetime > two_months_ago].groupby(\n",
    "    [\"customer_id\"])[\"receipt_id\"].count().reset_index()\n",
    "\n",
    "orders_last_2_months.rename(columns={'receipt_id': 'orders_last_2_month'}, inplace=True)\n",
    "                        \n",
    "                                            \n",
    "orders_last_3_months = order_sum_df[order_sum_df.signal_datetime > three_months_ago].groupby(\n",
    "    [\"customer_id\"])[\"receipt_id\"].count().reset_index()\n",
    "\n",
    "orders_last_3_months.rename(columns={'receipt_id': 'orders_last_3_month'}, inplace=True)\n",
    "\n",
    "                                            \n",
    "orders_last_6_months = order_sum_df[order_sum_df.signal_datetime > six_months_ago].groupby(\n",
    "    [\"customer_id\"])[\"receipt_id\"].count().reset_index()\n",
    "\n",
    "orders_last_6_months.rename(columns={'receipt_id': 'orders_last_6_month'}, inplace=True)\n",
    "\n",
    "                                            \n",
    "orders_last_year = order_sum_df[order_sum_df.signal_datetime > one_year_ago].groupby(\n",
    "    [\"customer_id\"])[\"receipt_id\"].count().reset_index()\n",
    "\n",
    "orders_last_year.rename(columns={'receipt_id': 'orders_last_year'}, inplace=True)\n",
    "\n",
    "\n",
    "# add them to customer dataframe\n",
    "\n",
    "customer_order_sum_df = pd.merge(\n",
    "    customer_order_sum_df,orders_last_month,on=\"customer_id\",how='left')\n",
    "\n",
    "customer_order_sum_df = pd.merge(\n",
    "    customer_order_sum_df,orders_last_2_months,on=\"customer_id\",how='left')\n",
    "\n",
    "customer_order_sum_df = pd.merge(\n",
    "    customer_order_sum_df,orders_last_3_months,on=\"customer_id\",how='left')\n",
    "\n",
    "customer_order_sum_df = pd.merge(\n",
    "    customer_order_sum_df,orders_last_6_months,on=\"customer_id\",how='left')\n",
    "\n",
    "customer_order_sum_df = pd.merge(\n",
    "    customer_order_sum_df,orders_last_year,on=\"customer_id\",how='left')\n",
    "\n",
    "#same thing as above but for amount spent\n",
    "\n",
    "spent_last_month = order_sum_df[order_sum_df.signal_datetime > one_month_ago].groupby(\n",
    "    [\"customer_id\"])[\"price\"].sum().reset_index()\n",
    "\n",
    "spent_last_month.rename(columns={'price': 'spent_last_month'}, inplace=True)\n",
    "\n",
    "spent_last_6_months = order_sum_df[order_sum_df.signal_datetime > six_months_ago].groupby(\n",
    "    [\"customer_id\"])[\"price\"].sum().reset_index()\n",
    "\n",
    "spent_last_6_months.rename(columns={'price': 'spent_last_6_month'}, inplace=True)\n",
    "\n",
    "spent_last_year = order_sum_df[order_sum_df.signal_datetime > one_year_ago].groupby(\n",
    "    [\"customer_id\"])[\"price\"].sum().reset_index()\n",
    "\n",
    "spent_last_year.rename(columns={'price': 'spent_last_year'}, inplace=True)\n",
    "\n",
    "customer_order_sum_df = pd.merge(\n",
    "    customer_order_sum_df,spent_last_month,on=\"customer_id\",how='left')\n",
    "\n",
    "customer_order_sum_df = pd.merge(\n",
    "    customer_order_sum_df,spent_last_6_months,on=\"customer_id\",how='left')\n",
    "\n",
    "customer_order_sum_df = pd.merge(\n",
    "    customer_order_sum_df,spent_last_year,on=\"customer_id\",how='left')\n",
    "\n",
    "#fill nulls with zeroes (those who haven't ordered anything in the above time periods)\n",
    "customer_order_sum_df.fillna(0,inplace=True)"
   ]
  },
  {
   "cell_type": "code",
   "execution_count": 19,
   "metadata": {
    "collapsed": false
   },
   "outputs": [],
   "source": [
    "customers_df = create_customer_df()\n",
    "\n",
    "receipts_df = read_receipts_data()\n",
    "\n",
    "order_sum_df = create_order_summary_df(receipts_df)\n",
    "\n",
    "customer_order_sum_df = create_customer_order_summary_df(receipts_df)"
   ]
  },
  {
   "cell_type": "code",
   "execution_count": 22,
   "metadata": {
    "collapsed": true
   },
   "outputs": [],
   "source": []
  },
  {
   "cell_type": "code",
   "execution_count": null,
   "metadata": {
    "collapsed": true
   },
   "outputs": [],
   "source": []
  }
 ],
 "metadata": {
  "kernelspec": {
   "display_name": "Python [Root]",
   "language": "python",
   "name": "Python [Root]"
  },
  "language_info": {
   "codemirror_mode": {
    "name": "ipython",
    "version": 3
   },
   "file_extension": ".py",
   "mimetype": "text/x-python",
   "name": "python",
   "nbconvert_exporter": "python",
   "pygments_lexer": "ipython3",
   "version": "3.5.2"
  }
 },
 "nbformat": 4,
 "nbformat_minor": 0
}
