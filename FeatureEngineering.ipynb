{
 "cells": [
  {
   "cell_type": "markdown",
   "metadata": {},
   "source": [
    "## This notebook loads the data, engineers features then saves the engineered dataset to a pickle file"
   ]
  },
  {
   "cell_type": "code",
   "execution_count": 2,
   "metadata": {
    "collapsed": true
   },
   "outputs": [],
   "source": [
    "import pandas as pd\n",
    "import numpy as np\n",
    "import datetime as dt"
   ]
  },
  {
   "cell_type": "markdown",
   "metadata": {},
   "source": [
    "## Create customer demographic dataframe, add the features listed below\n",
    "\n",
    "account_age - time since account was created in days. 'Now' is taken to be the most recent date in the receipt database, 30/3/2015\n",
    "\n",
    "account_age_months - same as above but in months rather than days\n",
    "\n",
    "customer_age - customer's age in years rounded down\n",
    "\n",
    "Additionally:\n",
    "\n",
    "Churn label is also converted from 2 and 1 to 1 and 0 (churn/not churn respectively)\n",
    "\n",
    "Dates are converted to datetime objects"
   ]
  },
  {
   "cell_type": "code",
   "execution_count": 11,
   "metadata": {
    "collapsed": false
   },
   "outputs": [],
   "source": [
    "def create_customer_df():\n",
    "    \n",
    "    ## latest date in receipt data\n",
    "    latest_date = dt.date(2014,3,30)\n",
    "\n",
    "    ## read customer demographic data and add header\n",
    "    customers_df = pd.read_table(\"customer/000000_0\",\n",
    "                                 header=None,\n",
    "                                 names = ['customer_id','churn_label',\n",
    "                                          'gender','country','date_created',\n",
    "                                          'YOB','premier'])\n",
    "    \n",
    "    ##convert churn label to 0 and 1\n",
    "    customers_df[\"churn_label\"] = customers_df[\"churn_label\"] - 1\n",
    "\n",
    "    ##convert date_created to datetime object\n",
    "    customers_df[\"date_created\"] = pd.to_datetime(customers_df[\"date_created\"])\n",
    "\n",
    "    ##convert year of birth to datetime object\n",
    "    customers_df[\"YOB\"] = pd.to_datetime(customers_df[\"YOB\"],format='%Y')\n",
    "\n",
    "    ##insert account age in days, most recent order in receipts data is 30/3/2014\n",
    "    customers_df[\"account_age\"] = (latest_date - customers_df[\"date_created\"]).dt.days\n",
    "\n",
    "    ##insert account age in months (rounded to nearest month), better for plotting\n",
    "    customers_df[\"account_age_months\"] = np.rint((latest_date - customers_df[\"date_created\"]).dt.days/(365/12))\n",
    "\n",
    "    ##insert customer age in years\n",
    "    customers_df[\"customer_age\"] = np.floor((latest_date - customers_df[\"YOB\"]).dt.days/365)\n",
    "    \n",
    "    return customers_df"
   ]
  },
  {
   "cell_type": "markdown",
   "metadata": {},
   "source": [
    "## Read receipt data and return data frame\n",
    "\n",
    "Convert signal_datetime to datetime object"
   ]
  },
  {
   "cell_type": "code",
   "execution_count": 18,
   "metadata": {
    "collapsed": true
   },
   "outputs": [],
   "source": [
    "def read_receipts_data():\n",
    "    \n",
    "    dfs_to_concat = []\n",
    "\n",
    "    for i in range(0,3):                                                            \n",
    "        dfs_to_concat.append(\n",
    "            pd.read_table(\"receipts/00000%d_0\" % i,header=None,names = ['customer_id','product_id',\n",
    "                                                                'source_id','division_id','item_qty',\n",
    "                                                                'signal_datetime','receipt_id','price']))\n",
    "        \n",
    "    receipts_df = pd.concat(dfs_to_concat)\n",
    "        \n",
    "    receipts_df[\"signal_datetime\"] = pd.to_datetime(receipts_df[\"signal_datetime\"])\n",
    "        \n",
    "    return receipts_df"
   ]
  },
  {
   "cell_type": "markdown",
   "metadata": {},
   "source": [
    "## Create order summary dataframe\n",
    "\n",
    "Dataframe contains a summary of each order. In the receipts data there is a row for every unique product in an order. These rows can be aggregated into a summary for each order by grouping them by receipt_id (the unique identifier of the order) and summing over price and number of items to give total order value and number of items bought for a given order."
   ]
  },
  {
   "cell_type": "code",
   "execution_count": 13,
   "metadata": {
    "collapsed": true
   },
   "outputs": [],
   "source": [
    "def create_order_summary_df(receipts_df):\n",
    "\n",
    "    ##group all orders (groupby columns are not aggregated) and sum over item_qty and price\n",
    "    ##to give total noumber of items and total order value\n",
    "    order_sum_df = receipts_df.groupby(\n",
    "        ['receipt_id','signal_datetime','customer_id']).sum().reset_index()\n",
    "\n",
    "    ##drop product_id, source_id, division_id columns as they are now meaningless (we have summed them up)\n",
    "    order_sum_df.drop(['product_id','source_id', 'division_id'], axis = 1, inplace = True)\n",
    "\n",
    "    ##add in date (used late for groupby operations)\n",
    "    order_sum_df[\"date\"] = order_sum_df[\"signal_datetime\"].dt.date\n",
    "    \n",
    "    return order_sum_df"
   ]
  },
  {
   "cell_type": "markdown",
   "metadata": {},
   "source": [
    "## Create customer's orders summary dataframe\n",
    "\n",
    "Dataframe contains a summary of all of a customer's orders."
   ]
  },
  {
   "cell_type": "code",
   "execution_count": 21,
   "metadata": {
    "collapsed": true
   },
   "outputs": [],
   "source": [
    "def create_customer_order_summary_df(receipts_df):\n",
    "    \n",
    "    ##group orders by customer id and aggregate by summing\n",
    "    customer_order_sum_df = receipts_df.groupby('customer_id').sum().reset_index()\n",
    "    \n",
    "    #drop meaningless columns (we have summed over them)\n",
    "    customer_order_sum_df.drop(\n",
    "    ['product_id','source_id', 'division_id','receipt_id'], axis = 1, inplace = True)\n",
    "    \n",
    "    #add rounded price for plotting\n",
    "    customer_order_sum_df[\"rounded_price\"] = np.rint(customer_order_sum_df[\"price\"])\n",
    "    \n",
    "    return customer_order_sum_df"
   ]
  },
  {
   "cell_type": "markdown",
   "metadata": {},
   "source": [
    "## Read returns data and return dataframe\n",
    "\n",
    "Add separate column for each return action"
   ]
  },
  {
   "cell_type": "code",
   "execution_count": 25,
   "metadata": {
    "collapsed": true
   },
   "outputs": [],
   "source": [
    "def read_returns_data():\n",
    "    \n",
    "    ##read returns data\n",
    "    returns_df = pd.read_table(\"returns/000000_0\",header=None,names = ['customer_id','product_id',\n",
    "                                                    'source_id','division_id','item_qty',\n",
    "                                                    'signal_datetime','receipt_id', 'return_id',\n",
    "                                                    'return_action','return_reason'])\n",
    "    \n",
    "    ##convert signal timestampe to datetime\n",
    "    returns_df[\"signal_datetime\"] = pd.to_datetime(returns_df[\"signal_datetime\"])\n",
    "    \n",
    "    #add new column for each return action, 1 indicates that, that return action that was taken\n",
    "    return_actions = [\"Refund\",\"Cancel\",\"Replacement\",\"Reject\"]\n",
    "    \n",
    "    for action in return_actions:\n",
    "        returns_df[action] = returns_df[\"return_action\"].apply(lambda x : 1 if x == action else 0)\n",
    "    \n",
    "    return returns_df"
   ]
  },
  {
   "cell_type": "markdown",
   "metadata": {},
   "source": [
    "## Create returns summary dataframe\n",
    "\n",
    "Dataframe contains a summary of each return. Just like the receipts data there is a row for every unique product returned."
   ]
  },
  {
   "cell_type": "code",
   "execution_count": 28,
   "metadata": {
    "collapsed": true
   },
   "outputs": [],
   "source": [
    "def create_returns_summary_df(returns_df):\n",
    "    \n",
    "    # create a summary dataframe of returns\n",
    "    returns_sum_df = returns_df.groupby(\n",
    "        ['return_id','signal_datetime','customer_id']).sum().reset_index()\n",
    "\n",
    "    #drop columns that are now meaningless (we have summed over them)\n",
    "    returns_sum_df.drop(['product_id','source_id', 'division_id'], axis = 1, inplace = True)\n",
    "    \n",
    "    return returns_sum_df"
   ]
  },
  {
   "cell_type": "markdown",
   "metadata": {},
   "source": [
    "## Create customer's returns summary dataframe\n",
    "\n",
    "Dataframe contains a summary of each return. Just like the receipts data there is a row for every unique product returned."
   ]
  },
  {
   "cell_type": "code",
   "execution_count": 32,
   "metadata": {
    "collapsed": true
   },
   "outputs": [],
   "source": [
    "def create_customer_returns_summary_df(returns_df):\n",
    "    \n",
    "    # create a summary of customer's returns dataframe\n",
    "    returns_sum_df = returns_df.groupby('customer_id').sum().reset_index()\n",
    "\n",
    "    #rename sum of items returned as number of returned items\n",
    "    customer_returns_sum_df.rename(columns={'item_qty': 'no_returned_items'}, inplace=True)\n",
    "\n",
    "    #drop columns that are now meaningless\n",
    "    customer_returns_sum_df.drop(['return_id','receipt_id'], axis = 1, inplace = True)\n",
    "    \n",
    "    return customer_returns_sum_df"
   ]
  },
  {
   "cell_type": "markdown",
   "metadata": {},
   "source": [
    "## Load browsing data\n",
    "\n",
    "Load browsing data, drop information to do with browser (large dataset)"
   ]
  },
  {
   "cell_type": "code",
   "execution_count": 35,
   "metadata": {
    "collapsed": false
   },
   "outputs": [],
   "source": [
    "def read_browsing_data():\n",
    "\n",
    "    dfs_to_concat = []\n",
    "\n",
    "    for i in range(0,18):                                                            \n",
    "        dfs_to_concat.append(\n",
    "            pd.read_table(\"sessionsummary/0000%02d_0\" % i,\n",
    "                          header=None,\n",
    "                          names = ['customer_id','country',\n",
    "                                    'start_time','site','page_views',\n",
    "                                    'non_page_view_events','user_agent',\n",
    "                                    'screen_res','browser_size','product_views',\n",
    "                                    'product_views_dist',\n",
    "                                    'added_to_bag','saved_for_l8r_prod',\n",
    "                                    'saved_for_l8r_cat','purchased_distinct',\n",
    "                                    'purchased_total']))\n",
    "        \n",
    "    browsing_df = pd.concat(dfs_to_concat)\n",
    "\n",
    "    #drop website and browser info\n",
    "    browsing_df.drop([\"site\",\"user_agent\",\"screen_res\",\"browser_size\"],axis = 1,inplace=True)\n",
    "\n",
    "    #convert start time timestamp to datetime object\n",
    "    browsing_df[\"start_time\"] = pd.to_datetime(web_df[\"start_time\"])\n",
    "    \n",
    "    return browsing_df"
   ]
  },
  {
   "cell_type": "markdown",
   "metadata": {},
   "source": [
    "## Feature engineering functions"
   ]
  },
  {
   "cell_type": "markdown",
   "metadata": {},
   "source": [
    "Insert time elapsed since the customers last order"
   ]
  },
  {
   "cell_type": "code",
   "execution_count": 44,
   "metadata": {
    "collapsed": false
   },
   "outputs": [],
   "source": [
    "def insert_time_elapsed_since_last_order(customers_df,recipts_df):\n",
    "\n",
    "    latest_date = dt.datetime(2014,4,30)\n",
    "\n",
    "    #group orders by customer id then find the max order datetime (latest)\n",
    "    last_order_df = pd.DataFrame(receipts_df.groupby(\"customer_id\")[\"signal_datetime\"].max()).reset_index()\n",
    "\n",
    "    ##rename signal_datetime\n",
    "    last_order_df.rename(columns={'signal_datetime': 'last_order_datetime'}, inplace=True)\n",
    "\n",
    "    ##calculate elapsed time\n",
    "    last_order_df[\"time_elapsed_since_last\"] = (latest_date - last_order_df[\"last_order_datetime\"]).dt.days\n",
    "        \n",
    "    customers_df = pd.merge(\n",
    "    customers_df,last_order_df[[\"customer_id\",\"time_elapsed_since_last\"]],on=\"customer_id\",how=\"left\")\n",
    "    \n",
    "    return customers_df"
   ]
  },
  {
   "cell_type": "code",
   "execution_count": 47,
   "metadata": {
    "collapsed": true
   },
   "outputs": [],
   "source": [
    "def insert_number_of_orders(customers_df,order_sum_df):\n",
    "\n",
    "    #create dataframe of number of orders, groupby customer_id then count number of orders\n",
    "    #(you can count any column as you are just counting the number of rows for a given customer_id)\n",
    "    num_of_orders = pd.DataFrame(order_sum_df.groupby([\"customer_id\"])[\"receipt_id\"].count()).reset_index()\n",
    "\n",
    "    #rename columns\n",
    "    num_of_orders.columns = [\"customer_id\",\"no_of_orders\"]\n",
    "\n",
    "    customers_df = pd.merge(customers_df,num_of_orders[[\"customer_id\",\"no_of_orders\"]],on=\"customer_id\")\n",
    "    \n",
    "    return customers_df"
   ]
  },
  {
   "cell_type": "code",
   "execution_count": 50,
   "metadata": {
    "collapsed": true
   },
   "outputs": [],
   "source": [
    "def insert_number_of_orders_in_last_n_days(customers_df,order_sum_df,days):\n",
    "    \n",
    "    latest_data = dt.datetime(2014,4,30)\n",
    "    \n",
    "    n_days_ago = latest_date - dt.timedelta(days)\n",
    "    \n",
    "    orders_last_n_days = order_sum_df[order_sum_df.signal_datetime > n_days_ago].groupby(\n",
    "        [\"customer_id\"])[\"receipt_id\"].count().reset_index()\n",
    "    \n",
    "    orders_last_n_days.rename(columns={'receipt_id': 'orders_last_'+str(days)+'_days'}, inplace=True)\n",
    "\n",
    "    customers_df = pd.merge(\n",
    "        customers_df,orders_last_n_days[['customer_id','orders_last_'+str(days)+'_days']],on=\"customer_id\")\n",
    "    \n",
    "    return customers_df"
   ]
  },
  {
   "cell_type": "code",
   "execution_count": null,
   "metadata": {
    "collapsed": true
   },
   "outputs": [],
   "source": [
    "\n",
    "\n",
    "##merge with customer order summary df\n",
    "customer_order_sum_df = pd.merge(\n",
    "    customer_order_sum_df,customer_returns_sum_df,on=\"customer_id\",how='left')\n",
    "\n",
    "## fill nulls in returned columns with zeroes (these customers have never returned an item)\n",
    "customer_order_sum_df[\n",
    "    ['no_returned_items', 'refunded', 'cancelled','replaced', 'rejected']] = customer_order_sum_df[\n",
    "    ['no_returned_items', 'refunded', 'cancelled','replaced', 'rejected']].fillna(0)\n",
    "\n",
    "customer_order_sum_df[\"bought_returned_ratio\"] = \\\n",
    "    customer_order_sum_df[\"no_returned_items\"]/customer_order_sum_df[\"no_of_orders\"]\n",
    "    \n",
    "customer_order_sum_df[\"bought_returned_ratio_rounded\"] = \\\n",
    "    np.rint(customer_order_sum_df[\"bought_returned_ratio\"])"
   ]
  },
  {
   "cell_type": "code",
   "execution_count": null,
   "metadata": {
    "collapsed": true
   },
   "outputs": [],
   "source": [
    "\n",
    "\n",
    "#create number of orders in the last month, 6 months, year\n",
    "one_month_ago = latest_date - dt.timedelta(365/12)\n",
    "two_months_ago = latest_date - dt.timedelta(365/6)\n",
    "three_months_ago = latest_date - dt.timedelta(365/4)\n",
    "six_months_ago = latest_date - dt.timedelta(365/2)\n",
    "one_year_ago = latest_date - dt.timedelta(365)\n",
    "\n",
    "#create seperate dataframes containing all orders from the last month, 6months, year\n",
    "\n",
    "orders_last_month = order_sum_df[order_sum_df.signal_datetime > one_month_ago].groupby(\n",
    "    [\"customer_id\"])[\"receipt_id\"].count().reset_index()\n",
    "\n",
    "orders_last_month.rename(columns={'receipt_id': 'orders_last_month'}, inplace=True)\n",
    "\n",
    "                                            \n",
    "orders_last_2_months = order_sum_df[order_sum_df.signal_datetime > two_months_ago].groupby(\n",
    "    [\"customer_id\"])[\"receipt_id\"].count().reset_index()\n",
    "\n",
    "orders_last_2_months.rename(columns={'receipt_id': 'orders_last_2_month'}, inplace=True)\n",
    "                        \n",
    "                                            \n",
    "orders_last_3_months = order_sum_df[order_sum_df.signal_datetime > three_months_ago].groupby(\n",
    "    [\"customer_id\"])[\"receipt_id\"].count().reset_index()\n",
    "\n",
    "orders_last_3_months.rename(columns={'receipt_id': 'orders_last_3_month'}, inplace=True)\n",
    "\n",
    "                                            \n",
    "orders_last_6_months = order_sum_df[order_sum_df.signal_datetime > six_months_ago].groupby(\n",
    "    [\"customer_id\"])[\"receipt_id\"].count().reset_index()\n",
    "\n",
    "orders_last_6_months.rename(columns={'receipt_id': 'orders_last_6_month'}, inplace=True)\n",
    "\n",
    "                                            \n",
    "orders_last_year = order_sum_df[order_sum_df.signal_datetime > one_year_ago].groupby(\n",
    "    [\"customer_id\"])[\"receipt_id\"].count().reset_index()\n",
    "\n",
    "orders_last_year.rename(columns={'receipt_id': 'orders_last_year'}, inplace=True)\n",
    "\n",
    "\n",
    "# add them to customer dataframe\n",
    "\n",
    "customer_order_sum_df = pd.merge(\n",
    "    customer_order_sum_df,orders_last_month,on=\"customer_id\",how='left')\n",
    "\n",
    "customer_order_sum_df = pd.merge(\n",
    "    customer_order_sum_df,orders_last_2_months,on=\"customer_id\",how='left')\n",
    "\n",
    "customer_order_sum_df = pd.merge(\n",
    "    customer_order_sum_df,orders_last_3_months,on=\"customer_id\",how='left')\n",
    "\n",
    "customer_order_sum_df = pd.merge(\n",
    "    customer_order_sum_df,orders_last_6_months,on=\"customer_id\",how='left')\n",
    "\n",
    "customer_order_sum_df = pd.merge(\n",
    "    customer_order_sum_df,orders_last_year,on=\"customer_id\",how='left')\n",
    "\n",
    "#same thing as above but for amount spent\n",
    "\n",
    "spent_last_month = order_sum_df[order_sum_df.signal_datetime > one_month_ago].groupby(\n",
    "    [\"customer_id\"])[\"price\"].sum().reset_index()\n",
    "\n",
    "spent_last_month.rename(columns={'price': 'spent_last_month'}, inplace=True)\n",
    "\n",
    "spent_last_6_months = order_sum_df[order_sum_df.signal_datetime > six_months_ago].groupby(\n",
    "    [\"customer_id\"])[\"price\"].sum().reset_index()\n",
    "\n",
    "spent_last_6_months.rename(columns={'price': 'spent_last_6_month'}, inplace=True)\n",
    "\n",
    "spent_last_year = order_sum_df[order_sum_df.signal_datetime > one_year_ago].groupby(\n",
    "    [\"customer_id\"])[\"price\"].sum().reset_index()\n",
    "\n",
    "spent_last_year.rename(columns={'price': 'spent_last_year'}, inplace=True)\n",
    "\n",
    "customer_order_sum_df = pd.merge(\n",
    "    customer_order_sum_df,spent_last_month,on=\"customer_id\",how='left')\n",
    "\n",
    "customer_order_sum_df = pd.merge(\n",
    "    customer_order_sum_df,spent_last_6_months,on=\"customer_id\",how='left')\n",
    "\n",
    "customer_order_sum_df = pd.merge(\n",
    "    customer_order_sum_df,spent_last_year,on=\"customer_id\",how='left')\n",
    "\n",
    "#fill nulls with zeroes (those who haven't ordered anything in the above time periods)\n",
    "customer_order_sum_df.fillna(0,inplace=True)"
   ]
  },
  {
   "cell_type": "code",
   "execution_count": 30,
   "metadata": {
    "collapsed": false
   },
   "outputs": [],
   "source": [
    "\"\"\"\n",
    "\n",
    "Load the datasets\n",
    "\n",
    "\"\"\"\n",
    "\n",
    "## Load customer data\n",
    "customers_df = create_customer_df()\n",
    "\n",
    "## Load receipts data\n",
    "receipts_df = read_receipts_data()\n",
    "\n",
    "## Create order summary and customer order summary dataframes\n",
    "\n",
    "order_sum_df = create_order_summary_df(receipts_df)\n",
    "\n",
    "customer_order_sum_df = create_customer_order_summary_df(receipts_df)\n",
    "\n",
    "## Load returns data\n",
    "\n",
    "returns_df = read_returns_data()\n",
    "\n",
    "## Create returns summary and customer returns summary dataframes\n",
    "\n",
    "returns_sum_df = create_returns_summary_df(returns_df)\n",
    "\n",
    "customer_returns_sum_df = create_customer_returns_summary_df(returns_df) \n",
    "\n",
    "## Load browsing data\n",
    "\n",
    "browsing_df = read_browsing_data()\n",
    "\n",
    "\"\"\"\n",
    "\n",
    "Engineer features and add them to customer_df\n",
    "\n",
    "\"\"\"\n",
    "\n",
    "## First add order summaries\n",
    "customer_df = pd.merge(\n",
    "    customer_df,customer_returns_sum_df,on=\"customer_id\",how='left')\n",
    "\n",
    "## Add time elapsed since last order\n",
    "customers_df = insert_time_elapsed_since_last_order(customers_df,receipts_df)\n",
    "\n",
    "customers_df = insert_number_of_orders(customers_df,order_sum_df)\n",
    "\n",
    "customers_df = insert_number_of_orders_in_last_n_days(customers_df,order_sum_df,365)"
   ]
  },
  {
   "cell_type": "code",
   "execution_count": 51,
   "metadata": {
    "collapsed": false
   },
   "outputs": [],
   "source": []
  },
  {
   "cell_type": "code",
   "execution_count": 52,
   "metadata": {
    "collapsed": false
   },
   "outputs": [
    {
     "data": {
      "text/html": [
       "<div>\n",
       "<table border=\"1\" class=\"dataframe\">\n",
       "  <thead>\n",
       "    <tr style=\"text-align: right;\">\n",
       "      <th></th>\n",
       "      <th>customer_id</th>\n",
       "      <th>churn_label</th>\n",
       "      <th>gender</th>\n",
       "      <th>country</th>\n",
       "      <th>date_created</th>\n",
       "      <th>YOB</th>\n",
       "      <th>premier</th>\n",
       "      <th>account_age</th>\n",
       "      <th>account_age_months</th>\n",
       "      <th>customer_age</th>\n",
       "      <th>time_elapsed_since_last</th>\n",
       "      <th>no_of_orders</th>\n",
       "      <th>orders_last_365_days</th>\n",
       "    </tr>\n",
       "  </thead>\n",
       "  <tbody>\n",
       "    <tr>\n",
       "      <th>0</th>\n",
       "      <td>1852043</td>\n",
       "      <td>1</td>\n",
       "      <td>F</td>\n",
       "      <td>UK</td>\n",
       "      <td>2005-03-02 19:35:50</td>\n",
       "      <td>1986-01-01</td>\n",
       "      <td>0</td>\n",
       "      <td>3314</td>\n",
       "      <td>109.0</td>\n",
       "      <td>28.0</td>\n",
       "      <td>75.0</td>\n",
       "      <td>1</td>\n",
       "      <td>1</td>\n",
       "    </tr>\n",
       "    <tr>\n",
       "      <th>1</th>\n",
       "      <td>1825138</td>\n",
       "      <td>0</td>\n",
       "      <td>F</td>\n",
       "      <td>UK</td>\n",
       "      <td>2005-11-25 20:32:39</td>\n",
       "      <td>1981-01-01</td>\n",
       "      <td>0</td>\n",
       "      <td>3046</td>\n",
       "      <td>100.0</td>\n",
       "      <td>33.0</td>\n",
       "      <td>45.0</td>\n",
       "      <td>3</td>\n",
       "      <td>2</td>\n",
       "    </tr>\n",
       "    <tr>\n",
       "      <th>2</th>\n",
       "      <td>585725</td>\n",
       "      <td>0</td>\n",
       "      <td>F</td>\n",
       "      <td>UK</td>\n",
       "      <td>2006-03-23 16:59:31</td>\n",
       "      <td>1976-01-01</td>\n",
       "      <td>6</td>\n",
       "      <td>2928</td>\n",
       "      <td>96.0</td>\n",
       "      <td>38.0</td>\n",
       "      <td>123.0</td>\n",
       "      <td>20</td>\n",
       "      <td>5</td>\n",
       "    </tr>\n",
       "    <tr>\n",
       "      <th>3</th>\n",
       "      <td>1773666</td>\n",
       "      <td>1</td>\n",
       "      <td>F</td>\n",
       "      <td>UK</td>\n",
       "      <td>2006-04-20 18:42:44</td>\n",
       "      <td>1990-01-01</td>\n",
       "      <td>0</td>\n",
       "      <td>2900</td>\n",
       "      <td>95.0</td>\n",
       "      <td>24.0</td>\n",
       "      <td>149.0</td>\n",
       "      <td>1</td>\n",
       "      <td>1</td>\n",
       "    </tr>\n",
       "    <tr>\n",
       "      <th>4</th>\n",
       "      <td>63351</td>\n",
       "      <td>0</td>\n",
       "      <td>F</td>\n",
       "      <td>UK</td>\n",
       "      <td>2006-04-21 23:48:16</td>\n",
       "      <td>1984-01-01</td>\n",
       "      <td>6</td>\n",
       "      <td>2899</td>\n",
       "      <td>95.0</td>\n",
       "      <td>30.0</td>\n",
       "      <td>278.0</td>\n",
       "      <td>27</td>\n",
       "      <td>2</td>\n",
       "    </tr>\n",
       "  </tbody>\n",
       "</table>\n",
       "</div>"
      ],
      "text/plain": [
       "   customer_id  churn_label gender country        date_created        YOB  \\\n",
       "0      1852043            1      F      UK 2005-03-02 19:35:50 1986-01-01   \n",
       "1      1825138            0      F      UK 2005-11-25 20:32:39 1981-01-01   \n",
       "2       585725            0      F      UK 2006-03-23 16:59:31 1976-01-01   \n",
       "3      1773666            1      F      UK 2006-04-20 18:42:44 1990-01-01   \n",
       "4        63351            0      F      UK 2006-04-21 23:48:16 1984-01-01   \n",
       "\n",
       "   premier  account_age  account_age_months  customer_age  \\\n",
       "0        0         3314               109.0          28.0   \n",
       "1        0         3046               100.0          33.0   \n",
       "2        6         2928                96.0          38.0   \n",
       "3        0         2900                95.0          24.0   \n",
       "4        6         2899                95.0          30.0   \n",
       "\n",
       "   time_elapsed_since_last  no_of_orders  orders_last_365_days  \n",
       "0                     75.0             1                     1  \n",
       "1                     45.0             3                     2  \n",
       "2                    123.0            20                     5  \n",
       "3                    149.0             1                     1  \n",
       "4                    278.0            27                     2  "
      ]
     },
     "execution_count": 52,
     "metadata": {},
     "output_type": "execute_result"
    }
   ],
   "source": [
    "customers_df.head()"
   ]
  },
  {
   "cell_type": "code",
   "execution_count": null,
   "metadata": {
    "collapsed": true
   },
   "outputs": [],
   "source": [
    "orders_last_6_months = order_sum_df[order_sum_df.signal_datetime > six_months_ago].groupby(\n",
    "    [\"customer_id\"])[\"receipt_id\"].count().reset_index()"
   ]
  }
 ],
 "metadata": {
  "kernelspec": {
   "display_name": "Python [Root]",
   "language": "python",
   "name": "Python [Root]"
  },
  "language_info": {
   "codemirror_mode": {
    "name": "ipython",
    "version": 3
   },
   "file_extension": ".py",
   "mimetype": "text/x-python",
   "name": "python",
   "nbconvert_exporter": "python",
   "pygments_lexer": "ipython3",
   "version": "3.5.2"
  }
 },
 "nbformat": 4,
 "nbformat_minor": 0
}
