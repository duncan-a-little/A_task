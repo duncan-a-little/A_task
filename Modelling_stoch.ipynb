{
 "cells": [
  {
   "cell_type": "code",
   "execution_count": 84,
   "metadata": {
    "collapsed": false
   },
   "outputs": [],
   "source": [
    "import pandas as pd\n",
    "import numpy as np\n",
    "import matplotlib as mpl\n",
    "import matplotlib.pyplot as plt\n",
    "get_ipython().magic(u'matplotlib inline')\n",
    "mpl.style.available\n",
    "mpl.style.use('ggplot') \n",
    "from IPython.display import display, HTML\n",
    "from itertools import cycle, islice\n",
    "from matplotlib.font_manager import FontProperties\n",
    "from ipywidgets import widgets\n",
    "from fuzzywuzzy import fuzz\n",
    "from fuzzywuzzy import process\n",
    "from bokeh.plotting import figure, output_file, show\n",
    "import datetime as dt \n",
    "from IPython.display import clear_output\n",
    "\n",
    "from patsy import dmatrices\n",
    "from sklearn.model_selection import train_test_split\n",
    "from sklearn.model_selection import cross_val_score\n",
    "from sklearn.preprocessing import StandardScaler\n",
    "from sklearn.svm import LinearSVC\n",
    "from sklearn.svm import SVC\n",
    "from sklearn.ensemble import RandomForestClassifier\n",
    "from sklearn.ensemble import ExtraTreesClassifier\n",
    "from sklearn.neighbors import KNeighborsClassifier \n",
    "from sklearn.linear_model import LogisticRegression\n",
    "import xgboost as xgb\n",
    "from sklearn.feature_selection import RFE\n",
    "from time import time\n",
    "\n",
    "from sklearn.metrics import make_scorer\n",
    "from sklearn.metrics import precision_recall_fscore_support"
   ]
  },
  {
   "cell_type": "code",
   "execution_count": 41,
   "metadata": {
    "collapsed": true
   },
   "outputs": [],
   "source": [
    "df = pd.read_pickle(\"./customer_df_with_engineered_features.pkl\")\n",
    "df.fillna(0,inplace = True)"
   ]
  },
  {
   "cell_type": "code",
   "execution_count": 30,
   "metadata": {
    "collapsed": false
   },
   "outputs": [
    {
     "data": {
      "text/plain": [
       "<matplotlib.axes._subplots.AxesSubplot at 0x7fe4731f2fd0>"
      ]
     },
     "execution_count": 30,
     "metadata": {},
     "output_type": "execute_result"
    },
    {
     "data": {
      "image/png": "[encoded data removed]",
      "text/plain": [
       "<matplotlib.figure.Figure at 0x7fe4731f2710>"
      ]
     },
     "metadata": {},
     "output_type": "display_data"
    }
   ],
   "source": [
    "feature = 'purchased_distinct'\n",
    "\n",
    "df[(df[feature] < 200)].groupby(feature)[\"churn_label\"].mean().plot()"
   ]
  },
  {
   "cell_type": "code",
   "execution_count": 31,
   "metadata": {
    "collapsed": false
   },
   "outputs": [
    {
     "data": {
      "text/plain": [
       "Index(['customer_id', 'churn_label', 'gender', 'country', 'date_created',\n",
       "       'YOB', 'premier', 'account_age', 'account_age_months', 'customer_age',\n",
       "       'no_items_bought', 'total_spent', 'rounded_total_spent', 'product_id',\n",
       "       'source_id', 'division_id', 'no_returned_items', 'Refund', 'Cancel',\n",
       "       'Replacement', 'Reject', 'page_views', 'non_page_view_events',\n",
       "       'saved_for_l8r_prod', 'saved_for_l8r_cat', 'purchased_distinct',\n",
       "       'purchased_total', 'bought_return_ratio', 'time_elapsed_since_last',\n",
       "       'no_of_orders', 'orders_last_365_days', 'orders_last_182_days',\n",
       "       'orders_last_92_days', 'orders_last_31_days', 'spent_last_365_days',\n",
       "       'spent_last_182_days', 'spent_last_92_days', 'spent_last_31_days',\n",
       "       'days_since_last_browse', 'visits_last_365_days',\n",
       "       'visits_last_182_days', 'visits_last_92_days', 'visits_last_31_days',\n",
       "       'total_site_visits'],\n",
       "      dtype='object')"
      ]
     },
     "execution_count": 31,
     "metadata": {},
     "output_type": "execute_result"
    }
   ],
   "source": [
    "df.columns"
   ]
  },
  {
   "cell_type": "code",
   "execution_count": 40,
   "metadata": {
    "collapsed": false
   },
   "outputs": [
    {
     "data": {
      "text/html": [
       "<div>\n",
       "<table border=\"1\" class=\"dataframe\">\n",
       "  <thead>\n",
       "    <tr style=\"text-align: right;\">\n",
       "      <th></th>\n",
       "      <th>customer_age</th>\n",
       "      <th>no_items_bought</th>\n",
       "      <th>total_spent</th>\n",
       "      <th>rounded_total_spent</th>\n",
       "      <th>product_id</th>\n",
       "      <th>source_id</th>\n",
       "      <th>division_id</th>\n",
       "      <th>no_returned_items</th>\n",
       "      <th>Refund</th>\n",
       "      <th>Cancel</th>\n",
       "      <th>...</th>\n",
       "      <th>spent_last_365_days</th>\n",
       "      <th>spent_last_182_days</th>\n",
       "      <th>spent_last_92_days</th>\n",
       "      <th>spent_last_31_days</th>\n",
       "      <th>days_since_last_browse</th>\n",
       "      <th>visits_last_365_days</th>\n",
       "      <th>visits_last_182_days</th>\n",
       "      <th>visits_last_92_days</th>\n",
       "      <th>visits_last_31_days</th>\n",
       "      <th>total_site_visits</th>\n",
       "    </tr>\n",
       "  </thead>\n",
       "  <tbody>\n",
       "    <tr>\n",
       "      <th>0</th>\n",
       "      <td>28.0</td>\n",
       "      <td>3.0</td>\n",
       "      <td>38.50</td>\n",
       "      <td>38.0</td>\n",
       "      <td>5805110.0</td>\n",
       "      <td>14.0</td>\n",
       "      <td>20.0</td>\n",
       "      <td>2.0</td>\n",
       "      <td>2.0</td>\n",
       "      <td>0.0</td>\n",
       "      <td>...</td>\n",
       "      <td>38.50</td>\n",
       "      <td>38.50</td>\n",
       "      <td>38.50</td>\n",
       "      <td>0.0</td>\n",
       "      <td>0.0</td>\n",
       "      <td>0.0</td>\n",
       "      <td>0.0</td>\n",
       "      <td>0.0</td>\n",
       "      <td>0.0</td>\n",
       "      <td>0.0</td>\n",
       "    </tr>\n",
       "    <tr>\n",
       "      <th>1</th>\n",
       "      <td>33.0</td>\n",
       "      <td>5.0</td>\n",
       "      <td>83.47</td>\n",
       "      <td>83.0</td>\n",
       "      <td>10513449.0</td>\n",
       "      <td>20.0</td>\n",
       "      <td>30.0</td>\n",
       "      <td>3.0</td>\n",
       "      <td>3.0</td>\n",
       "      <td>0.0</td>\n",
       "      <td>...</td>\n",
       "      <td>58.49</td>\n",
       "      <td>58.49</td>\n",
       "      <td>58.49</td>\n",
       "      <td>0.0</td>\n",
       "      <td>45.0</td>\n",
       "      <td>2.0</td>\n",
       "      <td>2.0</td>\n",
       "      <td>2.0</td>\n",
       "      <td>0.0</td>\n",
       "      <td>2.0</td>\n",
       "    </tr>\n",
       "    <tr>\n",
       "      <th>2</th>\n",
       "      <td>31.0</td>\n",
       "      <td>12.0</td>\n",
       "      <td>147.00</td>\n",
       "      <td>147.0</td>\n",
       "      <td>0.0</td>\n",
       "      <td>0.0</td>\n",
       "      <td>0.0</td>\n",
       "      <td>0.0</td>\n",
       "      <td>0.0</td>\n",
       "      <td>0.0</td>\n",
       "      <td>...</td>\n",
       "      <td>0.00</td>\n",
       "      <td>0.00</td>\n",
       "      <td>0.00</td>\n",
       "      <td>0.0</td>\n",
       "      <td>672.0</td>\n",
       "      <td>0.0</td>\n",
       "      <td>0.0</td>\n",
       "      <td>0.0</td>\n",
       "      <td>0.0</td>\n",
       "      <td>1.0</td>\n",
       "    </tr>\n",
       "    <tr>\n",
       "      <th>3</th>\n",
       "      <td>38.0</td>\n",
       "      <td>66.0</td>\n",
       "      <td>1648.49</td>\n",
       "      <td>1648.0</td>\n",
       "      <td>27691885.0</td>\n",
       "      <td>68.0</td>\n",
       "      <td>100.0</td>\n",
       "      <td>10.0</td>\n",
       "      <td>10.0</td>\n",
       "      <td>0.0</td>\n",
       "      <td>...</td>\n",
       "      <td>313.99</td>\n",
       "      <td>230.50</td>\n",
       "      <td>0.00</td>\n",
       "      <td>0.0</td>\n",
       "      <td>31.0</td>\n",
       "      <td>70.0</td>\n",
       "      <td>68.0</td>\n",
       "      <td>36.0</td>\n",
       "      <td>0.0</td>\n",
       "      <td>152.0</td>\n",
       "    </tr>\n",
       "    <tr>\n",
       "      <th>4</th>\n",
       "      <td>24.0</td>\n",
       "      <td>8.0</td>\n",
       "      <td>472.00</td>\n",
       "      <td>472.0</td>\n",
       "      <td>26371621.0</td>\n",
       "      <td>56.0</td>\n",
       "      <td>80.0</td>\n",
       "      <td>8.0</td>\n",
       "      <td>8.0</td>\n",
       "      <td>0.0</td>\n",
       "      <td>...</td>\n",
       "      <td>472.00</td>\n",
       "      <td>472.00</td>\n",
       "      <td>0.00</td>\n",
       "      <td>0.0</td>\n",
       "      <td>146.0</td>\n",
       "      <td>10.0</td>\n",
       "      <td>10.0</td>\n",
       "      <td>0.0</td>\n",
       "      <td>0.0</td>\n",
       "      <td>10.0</td>\n",
       "    </tr>\n",
       "  </tbody>\n",
       "</table>\n",
       "<p>5 rows × 35 columns</p>\n",
       "</div>"
      ],
      "text/plain": [
       "   customer_age  no_items_bought  total_spent  rounded_total_spent  \\\n",
       "0          28.0              3.0        38.50                 38.0   \n",
       "1          33.0              5.0        83.47                 83.0   \n",
       "2          31.0             12.0       147.00                147.0   \n",
       "3          38.0             66.0      1648.49               1648.0   \n",
       "4          24.0              8.0       472.00                472.0   \n",
       "\n",
       "   product_id  source_id  division_id  no_returned_items  Refund  Cancel  \\\n",
       "0   5805110.0       14.0         20.0                2.0     2.0     0.0   \n",
       "1  10513449.0       20.0         30.0                3.0     3.0     0.0   \n",
       "2         0.0        0.0          0.0                0.0     0.0     0.0   \n",
       "3  27691885.0       68.0        100.0               10.0    10.0     0.0   \n",
       "4  26371621.0       56.0         80.0                8.0     8.0     0.0   \n",
       "\n",
       "         ...          spent_last_365_days  spent_last_182_days  \\\n",
       "0        ...                        38.50                38.50   \n",
       "1        ...                        58.49                58.49   \n",
       "2        ...                         0.00                 0.00   \n",
       "3        ...                       313.99               230.50   \n",
       "4        ...                       472.00               472.00   \n",
       "\n",
       "   spent_last_92_days  spent_last_31_days  days_since_last_browse  \\\n",
       "0               38.50                 0.0                     0.0   \n",
       "1               58.49                 0.0                    45.0   \n",
       "2                0.00                 0.0                   672.0   \n",
       "3                0.00                 0.0                    31.0   \n",
       "4                0.00                 0.0                   146.0   \n",
       "\n",
       "   visits_last_365_days  visits_last_182_days  visits_last_92_days  \\\n",
       "0                   0.0                   0.0                  0.0   \n",
       "1                   2.0                   2.0                  2.0   \n",
       "2                   0.0                   0.0                  0.0   \n",
       "3                  70.0                  68.0                 36.0   \n",
       "4                  10.0                  10.0                  0.0   \n",
       "\n",
       "   visits_last_31_days  total_site_visits  \n",
       "0                  0.0                0.0  \n",
       "1                  0.0                2.0  \n",
       "2                  0.0                1.0  \n",
       "3                  0.0              152.0  \n",
       "4                  0.0               10.0  \n",
       "\n",
       "[5 rows x 35 columns]"
      ]
     },
     "execution_count": 40,
     "metadata": {},
     "output_type": "execute_result"
    }
   ],
   "source": [
    "df.head()"
   ]
  },
  {
   "cell_type": "code",
   "execution_count": 67,
   "metadata": {
    "collapsed": true
   },
   "outputs": [],
   "source": [
    "opt_logistic_regression = ['no_returned_items',\n",
    "'Refund',\n",
    "'purchased_distinct',\n",
    "'purchased_total',\n",
    "'time_elapsed_since_last',\n",
    "'no_of_orders',\n",
    "'orders_last_182_days',\n",
    "'orders_last_92_days',\n",
    "'orders_last_31_days',\n",
    "'visits_last_182_days',\n",
    "'visits_last_92_days']"
   ]
  },
  {
   "cell_type": "code",
   "execution_count": 92,
   "metadata": {
    "collapsed": false
   },
   "outputs": [
    {
     "ename": "AttributeError",
     "evalue": "type object 'RandomForestClassifier' has no attribute 'type'",
     "output_type": "error",
     "traceback": [
      "\u001b[1;31m---------------------------------------------------------------------------\u001b[0m",
      "\u001b[1;31mAttributeError\u001b[0m                            Traceback (most recent call last)",
      "\u001b[1;32m<ipython-input-92-ecd01376e7f3>\u001b[0m in \u001b[0;36m<module>\u001b[1;34m()\u001b[0m\n\u001b[1;32m----> 1\u001b[1;33m \u001b[0mRandomForestClassifier\u001b[0m\u001b[1;33m.\u001b[0m\u001b[0mtype\u001b[0m\u001b[1;33m\u001b[0m\u001b[0m\n\u001b[0m",
      "\u001b[1;31mAttributeError\u001b[0m: type object 'RandomForestClassifier' has no attribute 'type'"
     ]
    }
   ],
   "source": []
  },
  {
   "cell_type": "code",
   "execution_count": 86,
   "metadata": {
    "collapsed": false
   },
   "outputs": [
    {
     "ename": "JoblibValueError",
     "evalue": "JoblibValueError\n___________________________________________________________________________\nMultiprocessing exception:\n...........................................................................\n/home/duncan/anaconda3/lib/python3.5/runpy.py in _run_module_as_main(mod_name='ipykernel.__main__', alter_argv=1)\n    179         sys.exit(msg)\n    180     main_globals = sys.modules[\"__main__\"].__dict__\n    181     if alter_argv:\n    182         sys.argv[0] = mod_spec.origin\n    183     return _run_code(code, main_globals, None,\n--> 184                      \"__main__\", mod_spec)\n        mod_spec = ModuleSpec(name='ipykernel.__main__', loader=<_f...b/python3.5/site-packages/ipykernel/__main__.py')\n    185 \n    186 def run_module(mod_name, init_globals=None,\n    187                run_name=None, alter_sys=False):\n    188     \"\"\"Execute a module's code without importing it\n\n...........................................................................\n/home/duncan/anaconda3/lib/python3.5/runpy.py in _run_code(code=<code object <module> at 0x7fe4b81f2a50, file \"/...3.5/site-packages/ipykernel/__main__.py\", line 1>, run_globals={'__builtins__': <module 'builtins' (built-in)>, '__cached__': '/home/duncan/anaconda3/lib/python3.5/site-packages/ipykernel/__pycache__/__main__.cpython-35.pyc', '__doc__': None, '__file__': '/home/duncan/anaconda3/lib/python3.5/site-packages/ipykernel/__main__.py', '__loader__': <_frozen_importlib_external.SourceFileLoader object>, '__name__': '__main__', '__package__': 'ipykernel', '__spec__': ModuleSpec(name='ipykernel.__main__', loader=<_f...b/python3.5/site-packages/ipykernel/__main__.py'), 'app': <module 'ipykernel.kernelapp' from '/home/duncan.../python3.5/site-packages/ipykernel/kernelapp.py'>}, init_globals=None, mod_name='__main__', mod_spec=ModuleSpec(name='ipykernel.__main__', loader=<_f...b/python3.5/site-packages/ipykernel/__main__.py'), pkg_name='ipykernel', script_name=None)\n     80                        __cached__ = cached,\n     81                        __doc__ = None,\n     82                        __loader__ = loader,\n     83                        __package__ = pkg_name,\n     84                        __spec__ = mod_spec)\n---> 85     exec(code, run_globals)\n        code = <code object <module> at 0x7fe4b81f2a50, file \"/...3.5/site-packages/ipykernel/__main__.py\", line 1>\n        run_globals = {'__builtins__': <module 'builtins' (built-in)>, '__cached__': '/home/duncan/anaconda3/lib/python3.5/site-packages/ipykernel/__pycache__/__main__.cpython-35.pyc', '__doc__': None, '__file__': '/home/duncan/anaconda3/lib/python3.5/site-packages/ipykernel/__main__.py', '__loader__': <_frozen_importlib_external.SourceFileLoader object>, '__name__': '__main__', '__package__': 'ipykernel', '__spec__': ModuleSpec(name='ipykernel.__main__', loader=<_f...b/python3.5/site-packages/ipykernel/__main__.py'), 'app': <module 'ipykernel.kernelapp' from '/home/duncan.../python3.5/site-packages/ipykernel/kernelapp.py'>}\n     86     return run_globals\n     87 \n     88 def _run_module_code(code, init_globals=None,\n     89                     mod_name=None, mod_spec=None,\n\n...........................................................................\n/home/duncan/anaconda3/lib/python3.5/site-packages/ipykernel/__main__.py in <module>()\n      1 \n      2 \n----> 3 \n      4 if __name__ == '__main__':\n      5     from ipykernel import kernelapp as app\n      6     app.launch_new_instance()\n      7 \n      8 \n      9 \n     10 \n\n...........................................................................\n/home/duncan/anaconda3/lib/python3.5/site-packages/traitlets/config/application.py in launch_instance(cls=<class 'ipykernel.kernelapp.IPKernelApp'>, argv=None, **kwargs={})\n    653 \n    654         If a global instance already exists, this reinitializes and starts it\n    655         \"\"\"\n    656         app = cls.instance(**kwargs)\n    657         app.initialize(argv)\n--> 658         app.start()\n        app.start = <bound method IPKernelApp.start of <ipykernel.kernelapp.IPKernelApp object>>\n    659 \n    660 #-----------------------------------------------------------------------------\n    661 # utility functions, for convenience\n    662 #-----------------------------------------------------------------------------\n\n...........................................................................\n/home/duncan/anaconda3/lib/python3.5/site-packages/ipykernel/kernelapp.py in start(self=<ipykernel.kernelapp.IPKernelApp object>)\n    437         \n    438         if self.poller is not None:\n    439             self.poller.start()\n    440         self.kernel.start()\n    441         try:\n--> 442             ioloop.IOLoop.instance().start()\n    443         except KeyboardInterrupt:\n    444             pass\n    445 \n    446 launch_new_instance = IPKernelApp.launch_instance\n\n...........................................................................\n/home/duncan/anaconda3/lib/python3.5/site-packages/zmq/eventloop/ioloop.py in start(self=<zmq.eventloop.ioloop.ZMQIOLoop object>)\n    157             PollIOLoop.configure(ZMQIOLoop)\n    158         return PollIOLoop.current(*args, **kwargs)\n    159     \n    160     def start(self):\n    161         try:\n--> 162             super(ZMQIOLoop, self).start()\n        self.start = <bound method ZMQIOLoop.start of <zmq.eventloop.ioloop.ZMQIOLoop object>>\n    163         except ZMQError as e:\n    164             if e.errno == ETERM:\n    165                 # quietly return on ETERM\n    166                 pass\n\n...........................................................................\n/home/duncan/anaconda3/lib/python3.5/site-packages/tornado/ioloop.py in start(self=<zmq.eventloop.ioloop.ZMQIOLoop object>)\n    878                 self._events.update(event_pairs)\n    879                 while self._events:\n    880                     fd, events = self._events.popitem()\n    881                     try:\n    882                         fd_obj, handler_func = self._handlers[fd]\n--> 883                         handler_func(fd_obj, events)\n        handler_func = <function wrap.<locals>.null_wrapper>\n        fd_obj = <zmq.sugar.socket.Socket object>\n        events = 1\n    884                     except (OSError, IOError) as e:\n    885                         if errno_from_exception(e) == errno.EPIPE:\n    886                             # Happens when the client closes the connection\n    887                             pass\n\n...........................................................................\n/home/duncan/anaconda3/lib/python3.5/site-packages/tornado/stack_context.py in null_wrapper(*args=(<zmq.sugar.socket.Socket object>, 1), **kwargs={})\n    270         # Fast path when there are no active contexts.\n    271         def null_wrapper(*args, **kwargs):\n    272             try:\n    273                 current_state = _state.contexts\n    274                 _state.contexts = cap_contexts[0]\n--> 275                 return fn(*args, **kwargs)\n        args = (<zmq.sugar.socket.Socket object>, 1)\n        kwargs = {}\n    276             finally:\n    277                 _state.contexts = current_state\n    278         null_wrapper._wrapped = True\n    279         return null_wrapper\n\n...........................................................................\n/home/duncan/anaconda3/lib/python3.5/site-packages/zmq/eventloop/zmqstream.py in _handle_events(self=<zmq.eventloop.zmqstream.ZMQStream object>, fd=<zmq.sugar.socket.Socket object>, events=1)\n    435             # dispatch events:\n    436             if events & IOLoop.ERROR:\n    437                 gen_log.error(\"got POLLERR event on ZMQStream, which doesn't make sense\")\n    438                 return\n    439             if events & IOLoop.READ:\n--> 440                 self._handle_recv()\n        self._handle_recv = <bound method ZMQStream._handle_recv of <zmq.eventloop.zmqstream.ZMQStream object>>\n    441                 if not self.socket:\n    442                     return\n    443             if events & IOLoop.WRITE:\n    444                 self._handle_send()\n\n...........................................................................\n/home/duncan/anaconda3/lib/python3.5/site-packages/zmq/eventloop/zmqstream.py in _handle_recv(self=<zmq.eventloop.zmqstream.ZMQStream object>)\n    467                 gen_log.error(\"RECV Error: %s\"%zmq.strerror(e.errno))\n    468         else:\n    469             if self._recv_callback:\n    470                 callback = self._recv_callback\n    471                 # self._recv_callback = None\n--> 472                 self._run_callback(callback, msg)\n        self._run_callback = <bound method ZMQStream._run_callback of <zmq.eventloop.zmqstream.ZMQStream object>>\n        callback = <function wrap.<locals>.null_wrapper>\n        msg = [<zmq.sugar.frame.Frame object>, <zmq.sugar.frame.Frame object>, <zmq.sugar.frame.Frame object>, <zmq.sugar.frame.Frame object>, <zmq.sugar.frame.Frame object>, <zmq.sugar.frame.Frame object>, <zmq.sugar.frame.Frame object>]\n    473                 \n    474         # self.update_state()\n    475         \n    476 \n\n...........................................................................\n/home/duncan/anaconda3/lib/python3.5/site-packages/zmq/eventloop/zmqstream.py in _run_callback(self=<zmq.eventloop.zmqstream.ZMQStream object>, callback=<function wrap.<locals>.null_wrapper>, *args=([<zmq.sugar.frame.Frame object>, <zmq.sugar.frame.Frame object>, <zmq.sugar.frame.Frame object>, <zmq.sugar.frame.Frame object>, <zmq.sugar.frame.Frame object>, <zmq.sugar.frame.Frame object>, <zmq.sugar.frame.Frame object>],), **kwargs={})\n    409         close our socket.\"\"\"\n    410         try:\n    411             # Use a NullContext to ensure that all StackContexts are run\n    412             # inside our blanket exception handler rather than outside.\n    413             with stack_context.NullContext():\n--> 414                 callback(*args, **kwargs)\n        callback = <function wrap.<locals>.null_wrapper>\n        args = ([<zmq.sugar.frame.Frame object>, <zmq.sugar.frame.Frame object>, <zmq.sugar.frame.Frame object>, <zmq.sugar.frame.Frame object>, <zmq.sugar.frame.Frame object>, <zmq.sugar.frame.Frame object>, <zmq.sugar.frame.Frame object>],)\n        kwargs = {}\n    415         except:\n    416             gen_log.error(\"Uncaught exception, closing connection.\",\n    417                           exc_info=True)\n    418             # Close the socket on an uncaught exception from a user callback\n\n...........................................................................\n/home/duncan/anaconda3/lib/python3.5/site-packages/tornado/stack_context.py in null_wrapper(*args=([<zmq.sugar.frame.Frame object>, <zmq.sugar.frame.Frame object>, <zmq.sugar.frame.Frame object>, <zmq.sugar.frame.Frame object>, <zmq.sugar.frame.Frame object>, <zmq.sugar.frame.Frame object>, <zmq.sugar.frame.Frame object>],), **kwargs={})\n    270         # Fast path when there are no active contexts.\n    271         def null_wrapper(*args, **kwargs):\n    272             try:\n    273                 current_state = _state.contexts\n    274                 _state.contexts = cap_contexts[0]\n--> 275                 return fn(*args, **kwargs)\n        args = ([<zmq.sugar.frame.Frame object>, <zmq.sugar.frame.Frame object>, <zmq.sugar.frame.Frame object>, <zmq.sugar.frame.Frame object>, <zmq.sugar.frame.Frame object>, <zmq.sugar.frame.Frame object>, <zmq.sugar.frame.Frame object>],)\n        kwargs = {}\n    276             finally:\n    277                 _state.contexts = current_state\n    278         null_wrapper._wrapped = True\n    279         return null_wrapper\n\n...........................................................................\n/home/duncan/anaconda3/lib/python3.5/site-packages/ipykernel/kernelbase.py in dispatcher(msg=[<zmq.sugar.frame.Frame object>, <zmq.sugar.frame.Frame object>, <zmq.sugar.frame.Frame object>, <zmq.sugar.frame.Frame object>, <zmq.sugar.frame.Frame object>, <zmq.sugar.frame.Frame object>, <zmq.sugar.frame.Frame object>])\n    271         if self.control_stream:\n    272             self.control_stream.on_recv(self.dispatch_control, copy=False)\n    273 \n    274         def make_dispatcher(stream):\n    275             def dispatcher(msg):\n--> 276                 return self.dispatch_shell(stream, msg)\n        msg = [<zmq.sugar.frame.Frame object>, <zmq.sugar.frame.Frame object>, <zmq.sugar.frame.Frame object>, <zmq.sugar.frame.Frame object>, <zmq.sugar.frame.Frame object>, <zmq.sugar.frame.Frame object>, <zmq.sugar.frame.Frame object>]\n    277             return dispatcher\n    278 \n    279         for s in self.shell_streams:\n    280             s.on_recv(make_dispatcher(s), copy=False)\n\n...........................................................................\n/home/duncan/anaconda3/lib/python3.5/site-packages/ipykernel/kernelbase.py in dispatch_shell(self=<ipykernel.ipkernel.IPythonKernel object>, stream=<zmq.eventloop.zmqstream.ZMQStream object>, msg={'buffers': [], 'content': {'allow_stdin': True, 'code': '\"\"\"y, X = dmatrices(\\'churn_label ~ price + C(pre...\\'precision: \\',precision)\\nprint(\\'recall: \\',recall)', 'silent': False, 'stop_on_error': True, 'store_history': True, 'user_expressions': {}}, 'header': {'date': '2016-12-16T17:30:52.941753', 'msg_id': 'ECB29FDFAE5E4C9CB6E084F86F4D5B2D', 'msg_type': 'execute_request', 'session': '59B7F55993CF46A69D2CBCA44AC64C75', 'username': 'username', 'version': '5.0'}, 'metadata': {}, 'msg_id': 'ECB29FDFAE5E4C9CB6E084F86F4D5B2D', 'msg_type': 'execute_request', 'parent_header': {}})\n    223             self.log.error(\"UNKNOWN MESSAGE TYPE: %r\", msg_type)\n    224         else:\n    225             self.log.debug(\"%s: %s\", msg_type, msg)\n    226             self.pre_handler_hook()\n    227             try:\n--> 228                 handler(stream, idents, msg)\n        handler = <bound method Kernel.execute_request of <ipykernel.ipkernel.IPythonKernel object>>\n        stream = <zmq.eventloop.zmqstream.ZMQStream object>\n        idents = [b'59B7F55993CF46A69D2CBCA44AC64C75']\n        msg = {'buffers': [], 'content': {'allow_stdin': True, 'code': '\"\"\"y, X = dmatrices(\\'churn_label ~ price + C(pre...\\'precision: \\',precision)\\nprint(\\'recall: \\',recall)', 'silent': False, 'stop_on_error': True, 'store_history': True, 'user_expressions': {}}, 'header': {'date': '2016-12-16T17:30:52.941753', 'msg_id': 'ECB29FDFAE5E4C9CB6E084F86F4D5B2D', 'msg_type': 'execute_request', 'session': '59B7F55993CF46A69D2CBCA44AC64C75', 'username': 'username', 'version': '5.0'}, 'metadata': {}, 'msg_id': 'ECB29FDFAE5E4C9CB6E084F86F4D5B2D', 'msg_type': 'execute_request', 'parent_header': {}}\n    229             except Exception:\n    230                 self.log.error(\"Exception in message handler:\", exc_info=True)\n    231             finally:\n    232                 self.post_handler_hook()\n\n...........................................................................\n/home/duncan/anaconda3/lib/python3.5/site-packages/ipykernel/kernelbase.py in execute_request(self=<ipykernel.ipkernel.IPythonKernel object>, stream=<zmq.eventloop.zmqstream.ZMQStream object>, ident=[b'59B7F55993CF46A69D2CBCA44AC64C75'], parent={'buffers': [], 'content': {'allow_stdin': True, 'code': '\"\"\"y, X = dmatrices(\\'churn_label ~ price + C(pre...\\'precision: \\',precision)\\nprint(\\'recall: \\',recall)', 'silent': False, 'stop_on_error': True, 'store_history': True, 'user_expressions': {}}, 'header': {'date': '2016-12-16T17:30:52.941753', 'msg_id': 'ECB29FDFAE5E4C9CB6E084F86F4D5B2D', 'msg_type': 'execute_request', 'session': '59B7F55993CF46A69D2CBCA44AC64C75', 'username': 'username', 'version': '5.0'}, 'metadata': {}, 'msg_id': 'ECB29FDFAE5E4C9CB6E084F86F4D5B2D', 'msg_type': 'execute_request', 'parent_header': {}})\n    386         if not silent:\n    387             self.execution_count += 1\n    388             self._publish_execute_input(code, parent, self.execution_count)\n    389 \n    390         reply_content = self.do_execute(code, silent, store_history,\n--> 391                                         user_expressions, allow_stdin)\n        user_expressions = {}\n        allow_stdin = True\n    392 \n    393         # Flush output before sending the reply.\n    394         sys.stdout.flush()\n    395         sys.stderr.flush()\n\n...........................................................................\n/home/duncan/anaconda3/lib/python3.5/site-packages/ipykernel/ipkernel.py in do_execute(self=<ipykernel.ipkernel.IPythonKernel object>, code='\"\"\"y, X = dmatrices(\\'churn_label ~ price + C(pre...\\'precision: \\',precision)\\nprint(\\'recall: \\',recall)', silent=False, store_history=True, user_expressions={}, allow_stdin=True)\n    194 \n    195         reply_content = {}\n    196         # FIXME: the shell calls the exception handler itself.\n    197         shell._reply_content = None\n    198         try:\n--> 199             shell.run_cell(code, store_history=store_history, silent=silent)\n        shell.run_cell = <bound method InteractiveShell.run_cell of <ipykernel.zmqshell.ZMQInteractiveShell object>>\n        code = '\"\"\"y, X = dmatrices(\\'churn_label ~ price + C(pre...\\'precision: \\',precision)\\nprint(\\'recall: \\',recall)'\n        store_history = True\n        silent = False\n    200         except:\n    201             status = u'error'\n    202             # FIXME: this code right now isn't being used yet by default,\n    203             # because the run_cell() call above directly fires off exception\n\n...........................................................................\n/home/duncan/anaconda3/lib/python3.5/site-packages/IPython/core/interactiveshell.py in run_cell(self=<ipykernel.zmqshell.ZMQInteractiveShell object>, raw_cell='\"\"\"y, X = dmatrices(\\'churn_label ~ price + C(pre...\\'precision: \\',precision)\\nprint(\\'recall: \\',recall)', store_history=True, silent=False, shell_futures=True)\n   2718                 self.displayhook.exec_result = result\n   2719 \n   2720                 # Execute the user code\n   2721                 interactivity = \"none\" if silent else self.ast_node_interactivity\n   2722                 self.run_ast_nodes(code_ast.body, cell_name,\n-> 2723                    interactivity=interactivity, compiler=compiler, result=result)\n        interactivity = 'last_expr'\n        compiler = <IPython.core.compilerop.CachingCompiler object>\n   2724 \n   2725                 # Reset this so later displayed values do not modify the\n   2726                 # ExecutionResult\n   2727                 self.displayhook.exec_result = None\n\n...........................................................................\n/home/duncan/anaconda3/lib/python3.5/site-packages/IPython/core/interactiveshell.py in run_ast_nodes(self=<ipykernel.zmqshell.ZMQInteractiveShell object>, nodelist=[<_ast.Expr object>, <_ast.Assign object>, <_ast.Assign object>, <_ast.Assign object>, <_ast.Assign object>, <_ast.Assign object>, <_ast.Assign object>, <_ast.Assign object>, <_ast.Assign object>, <_ast.Expr object>, <_ast.Expr object>, <_ast.Expr object>], cell_name='<ipython-input-86-d24825be394b>', interactivity='last', compiler=<IPython.core.compilerop.CachingCompiler object>, result=<IPython.core.interactiveshell.ExecutionResult object>)\n   2820 \n   2821         try:\n   2822             for i, node in enumerate(to_run_exec):\n   2823                 mod = ast.Module([node])\n   2824                 code = compiler(mod, cell_name, \"exec\")\n-> 2825                 if self.run_code(code, result):\n        self.run_code = <bound method InteractiveShell.run_code of <ipykernel.zmqshell.ZMQInteractiveShell object>>\n        code = <code object <module> at 0x7fe473466030, file \"<ipython-input-86-d24825be394b>\", line 31>\n        result = <IPython.core.interactiveshell.ExecutionResult object>\n   2826                     return True\n   2827 \n   2828             for i, node in enumerate(to_run_interactive):\n   2829                 mod = ast.Interactive([node])\n\n...........................................................................\n/home/duncan/anaconda3/lib/python3.5/site-packages/IPython/core/interactiveshell.py in run_code(self=<ipykernel.zmqshell.ZMQInteractiveShell object>, code_obj=<code object <module> at 0x7fe473466030, file \"<ipython-input-86-d24825be394b>\", line 31>, result=<IPython.core.interactiveshell.ExecutionResult object>)\n   2880         outflag = 1  # happens in more places, so it's easier as default\n   2881         try:\n   2882             try:\n   2883                 self.hooks.pre_run_code_hook()\n   2884                 #rprint('Running code', repr(code_obj)) # dbg\n-> 2885                 exec(code_obj, self.user_global_ns, self.user_ns)\n        code_obj = <code object <module> at 0x7fe473466030, file \"<ipython-input-86-d24825be394b>\", line 31>\n        self.user_global_ns = {'ExtraTreesClassifier': <class 'sklearn.ensemble.forest.ExtraTreesClassifier'>, 'FontProperties': <class 'matplotlib.font_manager.FontProperties'>, 'HTML': <class 'IPython.core.display.HTML'>, 'In': ['', 'import pandas as pd\\nimport numpy as np\\nimport ma... as xgb\\nfrom sklearn.feature_selection import RFE', 'df = pd.read_pickle(\"./customer_df_with_engineered_features.pkl\")', 'df.head()', 'df.isnull().any()', 'df.shape', 'df.isnull().any()', 'df[df[\"price\"].isnull()]', 'df[df[\"price\"].isnull()][\"price\"]', 'df = pd.read_pickle(\"./customer_df_with_engineered_features.pkl\")', 'df.columns', 'customers_df[(customers_df.account_age_months < ...roupby(\"page_views\")[\"churn_label\"].mean().plot()', 'df[(df.account_age_months < 200)].groupby(\"page_views\")[\"churn_label\"].mean().plot()', 'df[(df.page_views < 1000)].groupby(\"page_views\")[\"churn_label\"].mean().plot()', 'df[(df.page_views < 200)].groupby(\"page_views\")[\"churn_label\"].mean().plot()', 'df.columns', 'df.corr()', 'df[(df.days_since_last_browse < 200)].groupby(\"days_since_last_browse\")[\"churn_label\"].mean().plot()', 'df[(df.days_since_last_browse < 500)].groupby(\"days_since_last_browse\")[\"churn_label\"].mean().plot()', 'df[(df.bought_return_ratio < 500)].groupby(\"days_since_last_browse\")[\"churn_label\"].mean().plot()', ...], 'KNeighborsClassifier': <class 'sklearn.neighbors.classification.KNeighborsClassifier'>, 'LinearSVC': <class 'sklearn.svm.classes.LinearSVC'>, 'LogisticRegression': <class 'sklearn.linear_model.logistic.LogisticRegression'>, 'Out': {3:    customer_id  churn_label gender country      ...                    10.0  \n\n[5 rows x 44 columns], 4: customer_id                False\nchurn_label    ...True\nvisits_last_10000_days      True\ndtype: bool, 5: (470169, 44), 6: customer_id                False\nchurn_label    ...True\nvisits_last_10000_days      True\ndtype: bool, 7:         customer_id  churn_label gender         ...                 3.0  \n\n[10211 rows x 44 columns], 8: 106      NaN\n142      NaN\n174      NaN\n205      ...59   NaN\n466660   NaN\nName: price, dtype: float64, 10: Index(['customer_id', 'churn_label', 'gender', '...      'total_site_visits'],\n      dtype='object'), 12: <matplotlib.axes._subplots.AxesSubplot object>, 13: <matplotlib.axes._subplots.AxesSubplot object>, 14: <matplotlib.axes._subplots.AxesSubplot object>, ...}, 'RFE': <class 'sklearn.feature_selection.rfe.RFE'>, 'RFECV': <class 'sklearn.feature_selection.rfe.RFECV'>, ...}\n        self.user_ns = {'ExtraTreesClassifier': <class 'sklearn.ensemble.forest.ExtraTreesClassifier'>, 'FontProperties': <class 'matplotlib.font_manager.FontProperties'>, 'HTML': <class 'IPython.core.display.HTML'>, 'In': ['', 'import pandas as pd\\nimport numpy as np\\nimport ma... as xgb\\nfrom sklearn.feature_selection import RFE', 'df = pd.read_pickle(\"./customer_df_with_engineered_features.pkl\")', 'df.head()', 'df.isnull().any()', 'df.shape', 'df.isnull().any()', 'df[df[\"price\"].isnull()]', 'df[df[\"price\"].isnull()][\"price\"]', 'df = pd.read_pickle(\"./customer_df_with_engineered_features.pkl\")', 'df.columns', 'customers_df[(customers_df.account_age_months < ...roupby(\"page_views\")[\"churn_label\"].mean().plot()', 'df[(df.account_age_months < 200)].groupby(\"page_views\")[\"churn_label\"].mean().plot()', 'df[(df.page_views < 1000)].groupby(\"page_views\")[\"churn_label\"].mean().plot()', 'df[(df.page_views < 200)].groupby(\"page_views\")[\"churn_label\"].mean().plot()', 'df.columns', 'df.corr()', 'df[(df.days_since_last_browse < 200)].groupby(\"days_since_last_browse\")[\"churn_label\"].mean().plot()', 'df[(df.days_since_last_browse < 500)].groupby(\"days_since_last_browse\")[\"churn_label\"].mean().plot()', 'df[(df.bought_return_ratio < 500)].groupby(\"days_since_last_browse\")[\"churn_label\"].mean().plot()', ...], 'KNeighborsClassifier': <class 'sklearn.neighbors.classification.KNeighborsClassifier'>, 'LinearSVC': <class 'sklearn.svm.classes.LinearSVC'>, 'LogisticRegression': <class 'sklearn.linear_model.logistic.LogisticRegression'>, 'Out': {3:    customer_id  churn_label gender country      ...                    10.0  \n\n[5 rows x 44 columns], 4: customer_id                False\nchurn_label    ...True\nvisits_last_10000_days      True\ndtype: bool, 5: (470169, 44), 6: customer_id                False\nchurn_label    ...True\nvisits_last_10000_days      True\ndtype: bool, 7:         customer_id  churn_label gender         ...                 3.0  \n\n[10211 rows x 44 columns], 8: 106      NaN\n142      NaN\n174      NaN\n205      ...59   NaN\n466660   NaN\nName: price, dtype: float64, 10: Index(['customer_id', 'churn_label', 'gender', '...      'total_site_visits'],\n      dtype='object'), 12: <matplotlib.axes._subplots.AxesSubplot object>, 13: <matplotlib.axes._subplots.AxesSubplot object>, 14: <matplotlib.axes._subplots.AxesSubplot object>, ...}, 'RFE': <class 'sklearn.feature_selection.rfe.RFE'>, 'RFECV': <class 'sklearn.feature_selection.rfe.RFECV'>, ...}\n   2886             finally:\n   2887                 # Reset our crash handler in place\n   2888                 sys.excepthook = old_excepthook\n   2889         except SystemExit as e:\n\n...........................................................................\n/home/duncan/asosdata/<ipython-input-86-d24825be394b> in <module>()\n     26 \n     27 y = np.ravel(y)\n     28 \n     29 #print((cross_val_score(clf, X, y,cv=3,n_jobs=-1)).mean())\n     30 \n---> 31 precision, recall, fscore, support     = cross_val_score(clf, X, y, cv=4,n_jobs=-1, scoring=make_scorer(precision_recall_fscore_support))\n     32 \n     33 #precision = cross_val_score(clf, X, y, cv=4, scoring='precision',n_jobs=-1)\n     34 #recall = cross_val_score(clf, X, y, cv=4, scoring='recall',n_jobs=-1)\n     35 \n\n...........................................................................\n/home/duncan/anaconda3/lib/python3.5/site-packages/sklearn/model_selection/_validation.py in cross_val_score(estimator=RandomForestClassifier(bootstrap=True, class_wei...te=None,\n            verbose=0, warm_start=False), X=array([[ 0.08032193,  0.24709768, -0.36305877, .... -0.07549536,\n        -0.31106567, -0.27816989]]), y=array([1, 0, 0, ..., 1, 0, 1]), groups=None, scoring=make_scorer(precision_recall_fscore_support), cv=StratifiedKFold(n_splits=4, random_state=None, shuffle=False), n_jobs=-1, verbose=0, fit_params=None, pre_dispatch='2*n_jobs')\n    135     parallel = Parallel(n_jobs=n_jobs, verbose=verbose,\n    136                         pre_dispatch=pre_dispatch)\n    137     scores = parallel(delayed(_fit_and_score)(clone(estimator), X, y, scorer,\n    138                                               train, test, verbose, None,\n    139                                               fit_params)\n--> 140                       for train, test in cv_iter)\n        cv_iter = [(array([117368, 117369, 117370, ..., 470166, 470167, 470168]), array([     0,      1,      2, ..., 117625, 117626, 117627])), (array([     0,      1,      2, ..., 470166, 470167, 470168]), array([117368, 117369, 117370, ..., 235339, 235340, 235343])), (array([     0,      1,      2, ..., 470166, 470167, 470168]), array([235012, 235013, 235014, ..., 352823, 352824, 352825])), (array([     0,      1,      2, ..., 352823, 352824, 352825]), array([352428, 352431, 352432, ..., 470166, 470167, 470168]))]\n    141     return np.array(scores)[:, 0]\n    142 \n    143 \n    144 def _fit_and_score(estimator, X, y, scorer, train, test, verbose,\n\n...........................................................................\n/home/duncan/anaconda3/lib/python3.5/site-packages/sklearn/externals/joblib/parallel.py in __call__(self=Parallel(n_jobs=-1), iterable=<generator object cross_val_score.<locals>.<genexpr>>)\n    763             if pre_dispatch == \"all\" or n_jobs == 1:\n    764                 # The iterable was consumed all at once by the above for loop.\n    765                 # No need to wait for async callbacks to trigger to\n    766                 # consumption.\n    767                 self._iterating = False\n--> 768             self.retrieve()\n        self.retrieve = <bound method Parallel.retrieve of Parallel(n_jobs=-1)>\n    769             # Make sure that we get a last message telling us we are done\n    770             elapsed_time = time.time() - self._start_time\n    771             self._print('Done %3i out of %3i | elapsed: %s finished',\n    772                         (len(self._output), len(self._output),\n\n---------------------------------------------------------------------------\nSub-process traceback:\n---------------------------------------------------------------------------\nValueError                                         Fri Dec 16 17:32:12 2016\nPID: 5446                   Python 3.5.2: /home/duncan/anaconda3/bin/python\n...........................................................................\n/home/duncan/anaconda3/lib/python3.5/site-packages/sklearn/externals/joblib/parallel.py in __call__(self=<sklearn.externals.joblib.parallel.BatchedCalls object>)\n    126     def __init__(self, iterator_slice):\n    127         self.items = list(iterator_slice)\n    128         self._size = len(self.items)\n    129 \n    130     def __call__(self):\n--> 131         return [func(*args, **kwargs) for func, args, kwargs in self.items]\n        self.items = [(<function _fit_and_score>, (RandomForestClassifier(bootstrap=True, class_wei...te=None,\n            verbose=0, warm_start=False), memmap([[ 0.08032193,  0.24709768, -0.36305877, ... -0.07549536,\n        -0.31106567, -0.27816989]]), memmap([1, 0, 0, ..., 1, 0, 1]), make_scorer(precision_recall_fscore_support), memmap([117368, 117369, 117370, ..., 470166, 470167, 470168]), array([     0,      1,      2, ..., 117625, 117626, 117627]), 0, None, None), {})]\n    132 \n    133     def __len__(self):\n    134         return self._size\n    135 \n\n...........................................................................\n/home/duncan/anaconda3/lib/python3.5/site-packages/sklearn/externals/joblib/parallel.py in <listcomp>(.0=<list_iterator object>)\n    126     def __init__(self, iterator_slice):\n    127         self.items = list(iterator_slice)\n    128         self._size = len(self.items)\n    129 \n    130     def __call__(self):\n--> 131         return [func(*args, **kwargs) for func, args, kwargs in self.items]\n        func = <function _fit_and_score>\n        args = (RandomForestClassifier(bootstrap=True, class_wei...te=None,\n            verbose=0, warm_start=False), memmap([[ 0.08032193,  0.24709768, -0.36305877, ... -0.07549536,\n        -0.31106567, -0.27816989]]), memmap([1, 0, 0, ..., 1, 0, 1]), make_scorer(precision_recall_fscore_support), memmap([117368, 117369, 117370, ..., 470166, 470167, 470168]), array([     0,      1,      2, ..., 117625, 117626, 117627]), 0, None, None)\n        kwargs = {}\n    132 \n    133     def __len__(self):\n    134         return self._size\n    135 \n\n...........................................................................\n/home/duncan/anaconda3/lib/python3.5/site-packages/sklearn/model_selection/_validation.py in _fit_and_score(estimator=RandomForestClassifier(bootstrap=True, class_wei...te=None,\n            verbose=0, warm_start=False), X=memmap([[ 0.08032193,  0.24709768, -0.36305877, ... -0.07549536,\n        -0.31106567, -0.27816989]]), y=memmap([1, 0, 0, ..., 1, 0, 1]), scorer=make_scorer(precision_recall_fscore_support), train=memmap([117368, 117369, 117370, ..., 470166, 470167, 470168]), test=array([     0,      1,      2, ..., 117625, 117626, 117627]), verbose=0, parameters=None, fit_params={}, return_train_score=False, return_parameters=False, return_n_test_samples=False, return_times=False, error_score='raise')\n    255                              \" numeric value. (Hint: if using 'raise', please\"\n    256                              \" make sure that it has been spelled correctly.)\")\n    257 \n    258     else:\n    259         fit_time = time.time() - start_time\n--> 260         test_score = _score(estimator, X_test, y_test, scorer)\n        test_score = undefined\n        estimator = RandomForestClassifier(bootstrap=True, class_wei...te=None,\n            verbose=0, warm_start=False)\n        X_test = memmap([[  8.03219270e-02,   2.47097681e-01,  -3...953588e-02,   2.36713672e+00,   2.14775890e+00]])\n        y_test = memmap([1, 0, 0, ..., 0, 0, 0])\n        scorer = make_scorer(precision_recall_fscore_support)\n    261         score_time = time.time() - start_time - fit_time\n    262         if return_train_score:\n    263             train_score = _score(estimator, X_train, y_train, scorer)\n    264 \n\n...........................................................................\n/home/duncan/anaconda3/lib/python3.5/site-packages/sklearn/model_selection/_validation.py in _score(estimator=RandomForestClassifier(bootstrap=True, class_wei...te=None,\n            verbose=0, warm_start=False), X_test=memmap([[  8.03219270e-02,   2.47097681e-01,  -3...953588e-02,   2.36713672e+00,   2.14775890e+00]]), y_test=memmap([1, 0, 0, ..., 0, 0, 0]), scorer=make_scorer(precision_recall_fscore_support))\n    293         except ValueError:\n    294             # non-scalar?\n    295             pass\n    296     if not isinstance(score, numbers.Number):\n    297         raise ValueError(\"scoring must return a number, got %s (%s) instead.\"\n--> 298                          % (str(score), type(score)))\n        score = (array([ 0.78507745,  0.71047829]), array([ 0.70504876,  0.78947368]), array([ 0.74291409,  0.74789583]), array([61322, 56221]))\n    299     return score\n    300 \n    301 \n    302 def cross_val_predict(estimator, X, y=None, groups=None, cv=None, n_jobs=1,\n\nValueError: scoring must return a number, got (array([ 0.78507745,  0.71047829]), array([ 0.70504876,  0.78947368]), array([ 0.74291409,  0.74789583]), array([61322, 56221])) (<class 'tuple'>) instead.\n___________________________________________________________________________",
     "output_type": "error",
     "traceback": [
      "\u001b[1;31m---------------------------------------------------------------------------\u001b[0m",
      "\u001b[1;31mRemoteTraceback\u001b[0m                           Traceback (most recent call last)",
      "\u001b[1;31mRemoteTraceback\u001b[0m: \n\"\"\"\nTraceback (most recent call last):\n  File \"/home/duncan/anaconda3/lib/python3.5/site-packages/sklearn/externals/joblib/_parallel_backends.py\", line 344, in __call__\n    return self.func(*args, **kwargs)\n  File \"/home/duncan/anaconda3/lib/python3.5/site-packages/sklearn/externals/joblib/parallel.py\", line 131, in __call__\n    return [func(*args, **kwargs) for func, args, kwargs in self.items]\n  File \"/home/duncan/anaconda3/lib/python3.5/site-packages/sklearn/externals/joblib/parallel.py\", line 131, in <listcomp>\n    return [func(*args, **kwargs) for func, args, kwargs in self.items]\n  File \"/home/duncan/anaconda3/lib/python3.5/site-packages/sklearn/model_selection/_validation.py\", line 260, in _fit_and_score\n    test_score = _score(estimator, X_test, y_test, scorer)\n  File \"/home/duncan/anaconda3/lib/python3.5/site-packages/sklearn/model_selection/_validation.py\", line 298, in _score\n    % (str(score), type(score)))\nValueError: scoring must return a number, got (array([ 0.78507745,  0.71047829]), array([ 0.70504876,  0.78947368]), array([ 0.74291409,  0.74789583]), array([61322, 56221])) (<class 'tuple'>) instead.\n\nDuring handling of the above exception, another exception occurred:\n\nTraceback (most recent call last):\n  File \"/home/duncan/anaconda3/lib/python3.5/multiprocessing/pool.py\", line 119, in worker\n    result = (True, func(*args, **kwds))\n  File \"/home/duncan/anaconda3/lib/python3.5/site-packages/sklearn/externals/joblib/_parallel_backends.py\", line 353, in __call__\n    raise TransportableException(text, e_type)\nsklearn.externals.joblib.my_exceptions.TransportableException: TransportableException\n___________________________________________________________________________\nValueError                                         Fri Dec 16 17:32:12 2016\nPID: 5446                   Python 3.5.2: /home/duncan/anaconda3/bin/python\n...........................................................................\n/home/duncan/anaconda3/lib/python3.5/site-packages/sklearn/externals/joblib/parallel.py in __call__(self=<sklearn.externals.joblib.parallel.BatchedCalls object>)\n    126     def __init__(self, iterator_slice):\n    127         self.items = list(iterator_slice)\n    128         self._size = len(self.items)\n    129 \n    130     def __call__(self):\n--> 131         return [func(*args, **kwargs) for func, args, kwargs in self.items]\n        self.items = [(<function _fit_and_score>, (RandomForestClassifier(bootstrap=True, class_wei...te=None,\n            verbose=0, warm_start=False), memmap([[ 0.08032193,  0.24709768, -0.36305877, ... -0.07549536,\n        -0.31106567, -0.27816989]]), memmap([1, 0, 0, ..., 1, 0, 1]), make_scorer(precision_recall_fscore_support), memmap([117368, 117369, 117370, ..., 470166, 470167, 470168]), array([     0,      1,      2, ..., 117625, 117626, 117627]), 0, None, None), {})]\n    132 \n    133     def __len__(self):\n    134         return self._size\n    135 \n\n...........................................................................\n/home/duncan/anaconda3/lib/python3.5/site-packages/sklearn/externals/joblib/parallel.py in <listcomp>(.0=<list_iterator object>)\n    126     def __init__(self, iterator_slice):\n    127         self.items = list(iterator_slice)\n    128         self._size = len(self.items)\n    129 \n    130     def __call__(self):\n--> 131         return [func(*args, **kwargs) for func, args, kwargs in self.items]\n        func = <function _fit_and_score>\n        args = (RandomForestClassifier(bootstrap=True, class_wei...te=None,\n            verbose=0, warm_start=False), memmap([[ 0.08032193,  0.24709768, -0.36305877, ... -0.07549536,\n        -0.31106567, -0.27816989]]), memmap([1, 0, 0, ..., 1, 0, 1]), make_scorer(precision_recall_fscore_support), memmap([117368, 117369, 117370, ..., 470166, 470167, 470168]), array([     0,      1,      2, ..., 117625, 117626, 117627]), 0, None, None)\n        kwargs = {}\n    132 \n    133     def __len__(self):\n    134         return self._size\n    135 \n\n...........................................................................\n/home/duncan/anaconda3/lib/python3.5/site-packages/sklearn/model_selection/_validation.py in _fit_and_score(estimator=RandomForestClassifier(bootstrap=True, class_wei...te=None,\n            verbose=0, warm_start=False), X=memmap([[ 0.08032193,  0.24709768, -0.36305877, ... -0.07549536,\n        -0.31106567, -0.27816989]]), y=memmap([1, 0, 0, ..., 1, 0, 1]), scorer=make_scorer(precision_recall_fscore_support), train=memmap([117368, 117369, 117370, ..., 470166, 470167, 470168]), test=array([     0,      1,      2, ..., 117625, 117626, 117627]), verbose=0, parameters=None, fit_params={}, return_train_score=False, return_parameters=False, return_n_test_samples=False, return_times=False, error_score='raise')\n    255                              \" numeric value. (Hint: if using 'raise', please\"\n    256                              \" make sure that it has been spelled correctly.)\")\n    257 \n    258     else:\n    259         fit_time = time.time() - start_time\n--> 260         test_score = _score(estimator, X_test, y_test, scorer)\n        test_score = undefined\n        estimator = RandomForestClassifier(bootstrap=True, class_wei...te=None,\n            verbose=0, warm_start=False)\n        X_test = memmap([[  8.03219270e-02,   2.47097681e-01,  -3...953588e-02,   2.36713672e+00,   2.14775890e+00]])\n        y_test = memmap([1, 0, 0, ..., 0, 0, 0])\n        scorer = make_scorer(precision_recall_fscore_support)\n    261         score_time = time.time() - start_time - fit_time\n    262         if return_train_score:\n    263             train_score = _score(estimator, X_train, y_train, scorer)\n    264 \n\n...........................................................................\n/home/duncan/anaconda3/lib/python3.5/site-packages/sklearn/model_selection/_validation.py in _score(estimator=RandomForestClassifier(bootstrap=True, class_wei...te=None,\n            verbose=0, warm_start=False), X_test=memmap([[  8.03219270e-02,   2.47097681e-01,  -3...953588e-02,   2.36713672e+00,   2.14775890e+00]]), y_test=memmap([1, 0, 0, ..., 0, 0, 0]), scorer=make_scorer(precision_recall_fscore_support))\n    293         except ValueError:\n    294             # non-scalar?\n    295             pass\n    296     if not isinstance(score, numbers.Number):\n    297         raise ValueError(\"scoring must return a number, got %s (%s) instead.\"\n--> 298                          % (str(score), type(score)))\n        score = (array([ 0.78507745,  0.71047829]), array([ 0.70504876,  0.78947368]), array([ 0.74291409,  0.74789583]), array([61322, 56221]))\n    299     return score\n    300 \n    301 \n    302 def cross_val_predict(estimator, X, y=None, groups=None, cv=None, n_jobs=1,\n\nValueError: scoring must return a number, got (array([ 0.78507745,  0.71047829]), array([ 0.70504876,  0.78947368]), array([ 0.74291409,  0.74789583]), array([61322, 56221])) (<class 'tuple'>) instead.\n___________________________________________________________________________\n\"\"\"",
      "\nThe above exception was the direct cause of the following exception:\n",
      "\u001b[1;31mTransportableException\u001b[0m                    Traceback (most recent call last)",
      "\u001b[1;32m/home/duncan/anaconda3/lib/python3.5/site-packages/sklearn/externals/joblib/parallel.py\u001b[0m in \u001b[0;36mretrieve\u001b[1;34m(self)\u001b[0m\n\u001b[0;32m    681\u001b[0m                 \u001b[1;32mif\u001b[0m \u001b[1;34m'timeout'\u001b[0m \u001b[1;32min\u001b[0m \u001b[0mgetfullargspec\u001b[0m\u001b[1;33m(\u001b[0m\u001b[0mjob\u001b[0m\u001b[1;33m.\u001b[0m\u001b[0mget\u001b[0m\u001b[1;33m)\u001b[0m\u001b[1;33m.\u001b[0m\u001b[0margs\u001b[0m\u001b[1;33m:\u001b[0m\u001b[1;33m\u001b[0m\u001b[0m\n\u001b[1;32m--> 682\u001b[1;33m                     \u001b[0mself\u001b[0m\u001b[1;33m.\u001b[0m\u001b[0m_output\u001b[0m\u001b[1;33m.\u001b[0m\u001b[0mextend\u001b[0m\u001b[1;33m(\u001b[0m\u001b[0mjob\u001b[0m\u001b[1;33m.\u001b[0m\u001b[0mget\u001b[0m\u001b[1;33m(\u001b[0m\u001b[0mtimeout\u001b[0m\u001b[1;33m=\u001b[0m\u001b[0mself\u001b[0m\u001b[1;33m.\u001b[0m\u001b[0mtimeout\u001b[0m\u001b[1;33m)\u001b[0m\u001b[1;33m)\u001b[0m\u001b[1;33m\u001b[0m\u001b[0m\n\u001b[0m\u001b[0;32m    683\u001b[0m                 \u001b[1;32melse\u001b[0m\u001b[1;33m:\u001b[0m\u001b[1;33m\u001b[0m\u001b[0m\n",
      "\u001b[1;32m/home/duncan/anaconda3/lib/python3.5/multiprocessing/pool.py\u001b[0m in \u001b[0;36mget\u001b[1;34m(self, timeout)\u001b[0m\n\u001b[0;32m    607\u001b[0m         \u001b[1;32melse\u001b[0m\u001b[1;33m:\u001b[0m\u001b[1;33m\u001b[0m\u001b[0m\n\u001b[1;32m--> 608\u001b[1;33m             \u001b[1;32mraise\u001b[0m \u001b[0mself\u001b[0m\u001b[1;33m.\u001b[0m\u001b[0m_value\u001b[0m\u001b[1;33m\u001b[0m\u001b[0m\n\u001b[0m\u001b[0;32m    609\u001b[0m \u001b[1;33m\u001b[0m\u001b[0m\n",
      "\u001b[1;31mTransportableException\u001b[0m: TransportableException\n___________________________________________________________________________\nValueError                                         Fri Dec 16 17:32:12 2016\nPID: 5446                   Python 3.5.2: /home/duncan/anaconda3/bin/python\n...........................................................................\n/home/duncan/anaconda3/lib/python3.5/site-packages/sklearn/externals/joblib/parallel.py in __call__(self=<sklearn.externals.joblib.parallel.BatchedCalls object>)\n    126     def __init__(self, iterator_slice):\n    127         self.items = list(iterator_slice)\n    128         self._size = len(self.items)\n    129 \n    130     def __call__(self):\n--> 131         return [func(*args, **kwargs) for func, args, kwargs in self.items]\n        self.items = [(<function _fit_and_score>, (RandomForestClassifier(bootstrap=True, class_wei...te=None,\n            verbose=0, warm_start=False), memmap([[ 0.08032193,  0.24709768, -0.36305877, ... -0.07549536,\n        -0.31106567, -0.27816989]]), memmap([1, 0, 0, ..., 1, 0, 1]), make_scorer(precision_recall_fscore_support), memmap([117368, 117369, 117370, ..., 470166, 470167, 470168]), array([     0,      1,      2, ..., 117625, 117626, 117627]), 0, None, None), {})]\n    132 \n    133     def __len__(self):\n    134         return self._size\n    135 \n\n...........................................................................\n/home/duncan/anaconda3/lib/python3.5/site-packages/sklearn/externals/joblib/parallel.py in <listcomp>(.0=<list_iterator object>)\n    126     def __init__(self, iterator_slice):\n    127         self.items = list(iterator_slice)\n    128         self._size = len(self.items)\n    129 \n    130     def __call__(self):\n--> 131         return [func(*args, **kwargs) for func, args, kwargs in self.items]\n        func = <function _fit_and_score>\n        args = (RandomForestClassifier(bootstrap=True, class_wei...te=None,\n            verbose=0, warm_start=False), memmap([[ 0.08032193,  0.24709768, -0.36305877, ... -0.07549536,\n        -0.31106567, -0.27816989]]), memmap([1, 0, 0, ..., 1, 0, 1]), make_scorer(precision_recall_fscore_support), memmap([117368, 117369, 117370, ..., 470166, 470167, 470168]), array([     0,      1,      2, ..., 117625, 117626, 117627]), 0, None, None)\n        kwargs = {}\n    132 \n    133     def __len__(self):\n    134         return self._size\n    135 \n\n...........................................................................\n/home/duncan/anaconda3/lib/python3.5/site-packages/sklearn/model_selection/_validation.py in _fit_and_score(estimator=RandomForestClassifier(bootstrap=True, class_wei...te=None,\n            verbose=0, warm_start=False), X=memmap([[ 0.08032193,  0.24709768, -0.36305877, ... -0.07549536,\n        -0.31106567, -0.27816989]]), y=memmap([1, 0, 0, ..., 1, 0, 1]), scorer=make_scorer(precision_recall_fscore_support), train=memmap([117368, 117369, 117370, ..., 470166, 470167, 470168]), test=array([     0,      1,      2, ..., 117625, 117626, 117627]), verbose=0, parameters=None, fit_params={}, return_train_score=False, return_parameters=False, return_n_test_samples=False, return_times=False, error_score='raise')\n    255                              \" numeric value. (Hint: if using 'raise', please\"\n    256                              \" make sure that it has been spelled correctly.)\")\n    257 \n    258     else:\n    259         fit_time = time.time() - start_time\n--> 260         test_score = _score(estimator, X_test, y_test, scorer)\n        test_score = undefined\n        estimator = RandomForestClassifier(bootstrap=True, class_wei...te=None,\n            verbose=0, warm_start=False)\n        X_test = memmap([[  8.03219270e-02,   2.47097681e-01,  -3...953588e-02,   2.36713672e+00,   2.14775890e+00]])\n        y_test = memmap([1, 0, 0, ..., 0, 0, 0])\n        scorer = make_scorer(precision_recall_fscore_support)\n    261         score_time = time.time() - start_time - fit_time\n    262         if return_train_score:\n    263             train_score = _score(estimator, X_train, y_train, scorer)\n    264 \n\n...........................................................................\n/home/duncan/anaconda3/lib/python3.5/site-packages/sklearn/model_selection/_validation.py in _score(estimator=RandomForestClassifier(bootstrap=True, class_wei...te=None,\n            verbose=0, warm_start=False), X_test=memmap([[  8.03219270e-02,   2.47097681e-01,  -3...953588e-02,   2.36713672e+00,   2.14775890e+00]]), y_test=memmap([1, 0, 0, ..., 0, 0, 0]), scorer=make_scorer(precision_recall_fscore_support))\n    293         except ValueError:\n    294             # non-scalar?\n    295             pass\n    296     if not isinstance(score, numbers.Number):\n    297         raise ValueError(\"scoring must return a number, got %s (%s) instead.\"\n--> 298                          % (str(score), type(score)))\n        score = (array([ 0.78507745,  0.71047829]), array([ 0.70504876,  0.78947368]), array([ 0.74291409,  0.74789583]), array([61322, 56221]))\n    299     return score\n    300 \n    301 \n    302 def cross_val_predict(estimator, X, y=None, groups=None, cv=None, n_jobs=1,\n\nValueError: scoring must return a number, got (array([ 0.78507745,  0.71047829]), array([ 0.70504876,  0.78947368]), array([ 0.74291409,  0.74789583]), array([61322, 56221])) (<class 'tuple'>) instead.\n___________________________________________________________________________",
      "\nDuring handling of the above exception, another exception occurred:\n",
      "\u001b[1;31mJoblibValueError\u001b[0m                          Traceback (most recent call last)",
      "\u001b[1;32m<ipython-input-86-d24825be394b>\u001b[0m in \u001b[0;36m<module>\u001b[1;34m()\u001b[0m\n\u001b[0;32m     29\u001b[0m \u001b[1;31m#print((cross_val_score(clf, X, y,cv=3,n_jobs=-1)).mean())\u001b[0m\u001b[1;33m\u001b[0m\u001b[1;33m\u001b[0m\u001b[0m\n\u001b[0;32m     30\u001b[0m \u001b[1;33m\u001b[0m\u001b[0m\n\u001b[1;32m---> 31\u001b[1;33m \u001b[0mprecision\u001b[0m\u001b[1;33m,\u001b[0m \u001b[0mrecall\u001b[0m\u001b[1;33m,\u001b[0m \u001b[0mfscore\u001b[0m\u001b[1;33m,\u001b[0m \u001b[0msupport\u001b[0m     \u001b[1;33m=\u001b[0m \u001b[0mcross_val_score\u001b[0m\u001b[1;33m(\u001b[0m\u001b[0mclf\u001b[0m\u001b[1;33m,\u001b[0m \u001b[0mX\u001b[0m\u001b[1;33m,\u001b[0m \u001b[0my\u001b[0m\u001b[1;33m,\u001b[0m \u001b[0mcv\u001b[0m\u001b[1;33m=\u001b[0m\u001b[1;36m4\u001b[0m\u001b[1;33m,\u001b[0m\u001b[0mn_jobs\u001b[0m\u001b[1;33m=\u001b[0m\u001b[1;33m-\u001b[0m\u001b[1;36m1\u001b[0m\u001b[1;33m,\u001b[0m \u001b[0mscoring\u001b[0m\u001b[1;33m=\u001b[0m\u001b[0mmake_scorer\u001b[0m\u001b[1;33m(\u001b[0m\u001b[0mprecision_recall_fscore_support\u001b[0m\u001b[1;33m)\u001b[0m\u001b[1;33m)\u001b[0m\u001b[1;33m\u001b[0m\u001b[0m\n\u001b[0m\u001b[0;32m     32\u001b[0m \u001b[1;33m\u001b[0m\u001b[0m\n\u001b[0;32m     33\u001b[0m \u001b[1;31m#precision = cross_val_score(clf, X, y, cv=4, scoring='precision',n_jobs=-1)\u001b[0m\u001b[1;33m\u001b[0m\u001b[1;33m\u001b[0m\u001b[0m\n",
      "\u001b[1;32m/home/duncan/anaconda3/lib/python3.5/site-packages/sklearn/model_selection/_validation.py\u001b[0m in \u001b[0;36mcross_val_score\u001b[1;34m(estimator, X, y, groups, scoring, cv, n_jobs, verbose, fit_params, pre_dispatch)\u001b[0m\n\u001b[0;32m    138\u001b[0m                                               \u001b[0mtrain\u001b[0m\u001b[1;33m,\u001b[0m \u001b[0mtest\u001b[0m\u001b[1;33m,\u001b[0m \u001b[0mverbose\u001b[0m\u001b[1;33m,\u001b[0m \u001b[1;32mNone\u001b[0m\u001b[1;33m,\u001b[0m\u001b[1;33m\u001b[0m\u001b[0m\n\u001b[0;32m    139\u001b[0m                                               fit_params)\n\u001b[1;32m--> 140\u001b[1;33m                       for train, test in cv_iter)\n\u001b[0m\u001b[0;32m    141\u001b[0m     \u001b[1;32mreturn\u001b[0m \u001b[0mnp\u001b[0m\u001b[1;33m.\u001b[0m\u001b[0marray\u001b[0m\u001b[1;33m(\u001b[0m\u001b[0mscores\u001b[0m\u001b[1;33m)\u001b[0m\u001b[1;33m[\u001b[0m\u001b[1;33m:\u001b[0m\u001b[1;33m,\u001b[0m \u001b[1;36m0\u001b[0m\u001b[1;33m]\u001b[0m\u001b[1;33m\u001b[0m\u001b[0m\n\u001b[0;32m    142\u001b[0m \u001b[1;33m\u001b[0m\u001b[0m\n",
      "\u001b[1;32m/home/duncan/anaconda3/lib/python3.5/site-packages/sklearn/externals/joblib/parallel.py\u001b[0m in \u001b[0;36m__call__\u001b[1;34m(self, iterable)\u001b[0m\n\u001b[0;32m    766\u001b[0m                 \u001b[1;31m# consumption.\u001b[0m\u001b[1;33m\u001b[0m\u001b[1;33m\u001b[0m\u001b[0m\n\u001b[0;32m    767\u001b[0m                 \u001b[0mself\u001b[0m\u001b[1;33m.\u001b[0m\u001b[0m_iterating\u001b[0m \u001b[1;33m=\u001b[0m \u001b[1;32mFalse\u001b[0m\u001b[1;33m\u001b[0m\u001b[0m\n\u001b[1;32m--> 768\u001b[1;33m             \u001b[0mself\u001b[0m\u001b[1;33m.\u001b[0m\u001b[0mretrieve\u001b[0m\u001b[1;33m(\u001b[0m\u001b[1;33m)\u001b[0m\u001b[1;33m\u001b[0m\u001b[0m\n\u001b[0m\u001b[0;32m    769\u001b[0m             \u001b[1;31m# Make sure that we get a last message telling us we are done\u001b[0m\u001b[1;33m\u001b[0m\u001b[1;33m\u001b[0m\u001b[0m\n\u001b[0;32m    770\u001b[0m             \u001b[0melapsed_time\u001b[0m \u001b[1;33m=\u001b[0m \u001b[0mtime\u001b[0m\u001b[1;33m.\u001b[0m\u001b[0mtime\u001b[0m\u001b[1;33m(\u001b[0m\u001b[1;33m)\u001b[0m \u001b[1;33m-\u001b[0m \u001b[0mself\u001b[0m\u001b[1;33m.\u001b[0m\u001b[0m_start_time\u001b[0m\u001b[1;33m\u001b[0m\u001b[0m\n",
      "\u001b[1;32m/home/duncan/anaconda3/lib/python3.5/site-packages/sklearn/externals/joblib/parallel.py\u001b[0m in \u001b[0;36mretrieve\u001b[1;34m(self)\u001b[0m\n\u001b[0;32m    717\u001b[0m                     \u001b[0mensure_ready\u001b[0m \u001b[1;33m=\u001b[0m \u001b[0mself\u001b[0m\u001b[1;33m.\u001b[0m\u001b[0m_managed_backend\u001b[0m\u001b[1;33m\u001b[0m\u001b[0m\n\u001b[0;32m    718\u001b[0m                     \u001b[0mbackend\u001b[0m\u001b[1;33m.\u001b[0m\u001b[0mabort_everything\u001b[0m\u001b[1;33m(\u001b[0m\u001b[0mensure_ready\u001b[0m\u001b[1;33m=\u001b[0m\u001b[0mensure_ready\u001b[0m\u001b[1;33m)\u001b[0m\u001b[1;33m\u001b[0m\u001b[0m\n\u001b[1;32m--> 719\u001b[1;33m                 \u001b[1;32mraise\u001b[0m \u001b[0mexception\u001b[0m\u001b[1;33m\u001b[0m\u001b[0m\n\u001b[0m\u001b[0;32m    720\u001b[0m \u001b[1;33m\u001b[0m\u001b[0m\n\u001b[0;32m    721\u001b[0m     \u001b[1;32mdef\u001b[0m \u001b[0m__call__\u001b[0m\u001b[1;33m(\u001b[0m\u001b[0mself\u001b[0m\u001b[1;33m,\u001b[0m \u001b[0miterable\u001b[0m\u001b[1;33m)\u001b[0m\u001b[1;33m:\u001b[0m\u001b[1;33m\u001b[0m\u001b[0m\n",
      "\u001b[1;31mJoblibValueError\u001b[0m: JoblibValueError\n___________________________________________________________________________\nMultiprocessing exception:\n...........................................................................\n/home/duncan/anaconda3/lib/python3.5/runpy.py in _run_module_as_main(mod_name='ipykernel.__main__', alter_argv=1)\n    179         sys.exit(msg)\n    180     main_globals = sys.modules[\"__main__\"].__dict__\n    181     if alter_argv:\n    182         sys.argv[0] = mod_spec.origin\n    183     return _run_code(code, main_globals, None,\n--> 184                      \"__main__\", mod_spec)\n        mod_spec = ModuleSpec(name='ipykernel.__main__', loader=<_f...b/python3.5/site-packages/ipykernel/__main__.py')\n    185 \n    186 def run_module(mod_name, init_globals=None,\n    187                run_name=None, alter_sys=False):\n    188     \"\"\"Execute a module's code without importing it\n\n...........................................................................\n/home/duncan/anaconda3/lib/python3.5/runpy.py in _run_code(code=<code object <module> at 0x7fe4b81f2a50, file \"/...3.5/site-packages/ipykernel/__main__.py\", line 1>, run_globals={'__builtins__': <module 'builtins' (built-in)>, '__cached__': '/home/duncan/anaconda3/lib/python3.5/site-packages/ipykernel/__pycache__/__main__.cpython-35.pyc', '__doc__': None, '__file__': '/home/duncan/anaconda3/lib/python3.5/site-packages/ipykernel/__main__.py', '__loader__': <_frozen_importlib_external.SourceFileLoader object>, '__name__': '__main__', '__package__': 'ipykernel', '__spec__': ModuleSpec(name='ipykernel.__main__', loader=<_f...b/python3.5/site-packages/ipykernel/__main__.py'), 'app': <module 'ipykernel.kernelapp' from '/home/duncan.../python3.5/site-packages/ipykernel/kernelapp.py'>}, init_globals=None, mod_name='__main__', mod_spec=ModuleSpec(name='ipykernel.__main__', loader=<_f...b/python3.5/site-packages/ipykernel/__main__.py'), pkg_name='ipykernel', script_name=None)\n     80                        __cached__ = cached,\n     81                        __doc__ = None,\n     82                        __loader__ = loader,\n     83                        __package__ = pkg_name,\n     84                        __spec__ = mod_spec)\n---> 85     exec(code, run_globals)\n        code = <code object <module> at 0x7fe4b81f2a50, file \"/...3.5/site-packages/ipykernel/__main__.py\", line 1>\n        run_globals = {'__builtins__': <module 'builtins' (built-in)>, '__cached__': '/home/duncan/anaconda3/lib/python3.5/site-packages/ipykernel/__pycache__/__main__.cpython-35.pyc', '__doc__': None, '__file__': '/home/duncan/anaconda3/lib/python3.5/site-packages/ipykernel/__main__.py', '__loader__': <_frozen_importlib_external.SourceFileLoader object>, '__name__': '__main__', '__package__': 'ipykernel', '__spec__': ModuleSpec(name='ipykernel.__main__', loader=<_f...b/python3.5/site-packages/ipykernel/__main__.py'), 'app': <module 'ipykernel.kernelapp' from '/home/duncan.../python3.5/site-packages/ipykernel/kernelapp.py'>}\n     86     return run_globals\n     87 \n     88 def _run_module_code(code, init_globals=None,\n     89                     mod_name=None, mod_spec=None,\n\n...........................................................................\n/home/duncan/anaconda3/lib/python3.5/site-packages/ipykernel/__main__.py in <module>()\n      1 \n      2 \n----> 3 \n      4 if __name__ == '__main__':\n      5     from ipykernel import kernelapp as app\n      6     app.launch_new_instance()\n      7 \n      8 \n      9 \n     10 \n\n...........................................................................\n/home/duncan/anaconda3/lib/python3.5/site-packages/traitlets/config/application.py in launch_instance(cls=<class 'ipykernel.kernelapp.IPKernelApp'>, argv=None, **kwargs={})\n    653 \n    654         If a global instance already exists, this reinitializes and starts it\n    655         \"\"\"\n    656         app = cls.instance(**kwargs)\n    657         app.initialize(argv)\n--> 658         app.start()\n        app.start = <bound method IPKernelApp.start of <ipykernel.kernelapp.IPKernelApp object>>\n    659 \n    660 #-----------------------------------------------------------------------------\n    661 # utility functions, for convenience\n    662 #-----------------------------------------------------------------------------\n\n...........................................................................\n/home/duncan/anaconda3/lib/python3.5/site-packages/ipykernel/kernelapp.py in start(self=<ipykernel.kernelapp.IPKernelApp object>)\n    437         \n    438         if self.poller is not None:\n    439             self.poller.start()\n    440         self.kernel.start()\n    441         try:\n--> 442             ioloop.IOLoop.instance().start()\n    443         except KeyboardInterrupt:\n    444             pass\n    445 \n    446 launch_new_instance = IPKernelApp.launch_instance\n\n...........................................................................\n/home/duncan/anaconda3/lib/python3.5/site-packages/zmq/eventloop/ioloop.py in start(self=<zmq.eventloop.ioloop.ZMQIOLoop object>)\n    157             PollIOLoop.configure(ZMQIOLoop)\n    158         return PollIOLoop.current(*args, **kwargs)\n    159     \n    160     def start(self):\n    161         try:\n--> 162             super(ZMQIOLoop, self).start()\n        self.start = <bound method ZMQIOLoop.start of <zmq.eventloop.ioloop.ZMQIOLoop object>>\n    163         except ZMQError as e:\n    164             if e.errno == ETERM:\n    165                 # quietly return on ETERM\n    166                 pass\n\n...........................................................................\n/home/duncan/anaconda3/lib/python3.5/site-packages/tornado/ioloop.py in start(self=<zmq.eventloop.ioloop.ZMQIOLoop object>)\n    878                 self._events.update(event_pairs)\n    879                 while self._events:\n    880                     fd, events = self._events.popitem()\n    881                     try:\n    882                         fd_obj, handler_func = self._handlers[fd]\n--> 883                         handler_func(fd_obj, events)\n        handler_func = <function wrap.<locals>.null_wrapper>\n        fd_obj = <zmq.sugar.socket.Socket object>\n        events = 1\n    884                     except (OSError, IOError) as e:\n    885                         if errno_from_exception(e) == errno.EPIPE:\n    886                             # Happens when the client closes the connection\n    887                             pass\n\n...........................................................................\n/home/duncan/anaconda3/lib/python3.5/site-packages/tornado/stack_context.py in null_wrapper(*args=(<zmq.sugar.socket.Socket object>, 1), **kwargs={})\n    270         # Fast path when there are no active contexts.\n    271         def null_wrapper(*args, **kwargs):\n    272             try:\n    273                 current_state = _state.contexts\n    274                 _state.contexts = cap_contexts[0]\n--> 275                 return fn(*args, **kwargs)\n        args = (<zmq.sugar.socket.Socket object>, 1)\n        kwargs = {}\n    276             finally:\n    277                 _state.contexts = current_state\n    278         null_wrapper._wrapped = True\n    279         return null_wrapper\n\n...........................................................................\n/home/duncan/anaconda3/lib/python3.5/site-packages/zmq/eventloop/zmqstream.py in _handle_events(self=<zmq.eventloop.zmqstream.ZMQStream object>, fd=<zmq.sugar.socket.Socket object>, events=1)\n    435             # dispatch events:\n    436             if events & IOLoop.ERROR:\n    437                 gen_log.error(\"got POLLERR event on ZMQStream, which doesn't make sense\")\n    438                 return\n    439             if events & IOLoop.READ:\n--> 440                 self._handle_recv()\n        self._handle_recv = <bound method ZMQStream._handle_recv of <zmq.eventloop.zmqstream.ZMQStream object>>\n    441                 if not self.socket:\n    442                     return\n    443             if events & IOLoop.WRITE:\n    444                 self._handle_send()\n\n...........................................................................\n/home/duncan/anaconda3/lib/python3.5/site-packages/zmq/eventloop/zmqstream.py in _handle_recv(self=<zmq.eventloop.zmqstream.ZMQStream object>)\n    467                 gen_log.error(\"RECV Error: %s\"%zmq.strerror(e.errno))\n    468         else:\n    469             if self._recv_callback:\n    470                 callback = self._recv_callback\n    471                 # self._recv_callback = None\n--> 472                 self._run_callback(callback, msg)\n        self._run_callback = <bound method ZMQStream._run_callback of <zmq.eventloop.zmqstream.ZMQStream object>>\n        callback = <function wrap.<locals>.null_wrapper>\n        msg = [<zmq.sugar.frame.Frame object>, <zmq.sugar.frame.Frame object>, <zmq.sugar.frame.Frame object>, <zmq.sugar.frame.Frame object>, <zmq.sugar.frame.Frame object>, <zmq.sugar.frame.Frame object>, <zmq.sugar.frame.Frame object>]\n    473                 \n    474         # self.update_state()\n    475         \n    476 \n\n...........................................................................\n/home/duncan/anaconda3/lib/python3.5/site-packages/zmq/eventloop/zmqstream.py in _run_callback(self=<zmq.eventloop.zmqstream.ZMQStream object>, callback=<function wrap.<locals>.null_wrapper>, *args=([<zmq.sugar.frame.Frame object>, <zmq.sugar.frame.Frame object>, <zmq.sugar.frame.Frame object>, <zmq.sugar.frame.Frame object>, <zmq.sugar.frame.Frame object>, <zmq.sugar.frame.Frame object>, <zmq.sugar.frame.Frame object>],), **kwargs={})\n    409         close our socket.\"\"\"\n    410         try:\n    411             # Use a NullContext to ensure that all StackContexts are run\n    412             # inside our blanket exception handler rather than outside.\n    413             with stack_context.NullContext():\n--> 414                 callback(*args, **kwargs)\n        callback = <function wrap.<locals>.null_wrapper>\n        args = ([<zmq.sugar.frame.Frame object>, <zmq.sugar.frame.Frame object>, <zmq.sugar.frame.Frame object>, <zmq.sugar.frame.Frame object>, <zmq.sugar.frame.Frame object>, <zmq.sugar.frame.Frame object>, <zmq.sugar.frame.Frame object>],)\n        kwargs = {}\n    415         except:\n    416             gen_log.error(\"Uncaught exception, closing connection.\",\n    417                           exc_info=True)\n    418             # Close the socket on an uncaught exception from a user callback\n\n...........................................................................\n/home/duncan/anaconda3/lib/python3.5/site-packages/tornado/stack_context.py in null_wrapper(*args=([<zmq.sugar.frame.Frame object>, <zmq.sugar.frame.Frame object>, <zmq.sugar.frame.Frame object>, <zmq.sugar.frame.Frame object>, <zmq.sugar.frame.Frame object>, <zmq.sugar.frame.Frame object>, <zmq.sugar.frame.Frame object>],), **kwargs={})\n    270         # Fast path when there are no active contexts.\n    271         def null_wrapper(*args, **kwargs):\n    272             try:\n    273                 current_state = _state.contexts\n    274                 _state.contexts = cap_contexts[0]\n--> 275                 return fn(*args, **kwargs)\n        args = ([<zmq.sugar.frame.Frame object>, <zmq.sugar.frame.Frame object>, <zmq.sugar.frame.Frame object>, <zmq.sugar.frame.Frame object>, <zmq.sugar.frame.Frame object>, <zmq.sugar.frame.Frame object>, <zmq.sugar.frame.Frame object>],)\n        kwargs = {}\n    276             finally:\n    277                 _state.contexts = current_state\n    278         null_wrapper._wrapped = True\n    279         return null_wrapper\n\n...........................................................................\n/home/duncan/anaconda3/lib/python3.5/site-packages/ipykernel/kernelbase.py in dispatcher(msg=[<zmq.sugar.frame.Frame object>, <zmq.sugar.frame.Frame object>, <zmq.sugar.frame.Frame object>, <zmq.sugar.frame.Frame object>, <zmq.sugar.frame.Frame object>, <zmq.sugar.frame.Frame object>, <zmq.sugar.frame.Frame object>])\n    271         if self.control_stream:\n    272             self.control_stream.on_recv(self.dispatch_control, copy=False)\n    273 \n    274         def make_dispatcher(stream):\n    275             def dispatcher(msg):\n--> 276                 return self.dispatch_shell(stream, msg)\n        msg = [<zmq.sugar.frame.Frame object>, <zmq.sugar.frame.Frame object>, <zmq.sugar.frame.Frame object>, <zmq.sugar.frame.Frame object>, <zmq.sugar.frame.Frame object>, <zmq.sugar.frame.Frame object>, <zmq.sugar.frame.Frame object>]\n    277             return dispatcher\n    278 \n    279         for s in self.shell_streams:\n    280             s.on_recv(make_dispatcher(s), copy=False)\n\n...........................................................................\n/home/duncan/anaconda3/lib/python3.5/site-packages/ipykernel/kernelbase.py in dispatch_shell(self=<ipykernel.ipkernel.IPythonKernel object>, stream=<zmq.eventloop.zmqstream.ZMQStream object>, msg={'buffers': [], 'content': {'allow_stdin': True, 'code': '\"\"\"y, X = dmatrices(\\'churn_label ~ price + C(pre...\\'precision: \\',precision)\\nprint(\\'recall: \\',recall)', 'silent': False, 'stop_on_error': True, 'store_history': True, 'user_expressions': {}}, 'header': {'date': '2016-12-16T17:30:52.941753', 'msg_id': 'ECB29FDFAE5E4C9CB6E084F86F4D5B2D', 'msg_type': 'execute_request', 'session': '59B7F55993CF46A69D2CBCA44AC64C75', 'username': 'username', 'version': '5.0'}, 'metadata': {}, 'msg_id': 'ECB29FDFAE5E4C9CB6E084F86F4D5B2D', 'msg_type': 'execute_request', 'parent_header': {}})\n    223             self.log.error(\"UNKNOWN MESSAGE TYPE: %r\", msg_type)\n    224         else:\n    225             self.log.debug(\"%s: %s\", msg_type, msg)\n    226             self.pre_handler_hook()\n    227             try:\n--> 228                 handler(stream, idents, msg)\n        handler = <bound method Kernel.execute_request of <ipykernel.ipkernel.IPythonKernel object>>\n        stream = <zmq.eventloop.zmqstream.ZMQStream object>\n        idents = [b'59B7F55993CF46A69D2CBCA44AC64C75']\n        msg = {'buffers': [], 'content': {'allow_stdin': True, 'code': '\"\"\"y, X = dmatrices(\\'churn_label ~ price + C(pre...\\'precision: \\',precision)\\nprint(\\'recall: \\',recall)', 'silent': False, 'stop_on_error': True, 'store_history': True, 'user_expressions': {}}, 'header': {'date': '2016-12-16T17:30:52.941753', 'msg_id': 'ECB29FDFAE5E4C9CB6E084F86F4D5B2D', 'msg_type': 'execute_request', 'session': '59B7F55993CF46A69D2CBCA44AC64C75', 'username': 'username', 'version': '5.0'}, 'metadata': {}, 'msg_id': 'ECB29FDFAE5E4C9CB6E084F86F4D5B2D', 'msg_type': 'execute_request', 'parent_header': {}}\n    229             except Exception:\n    230                 self.log.error(\"Exception in message handler:\", exc_info=True)\n    231             finally:\n    232                 self.post_handler_hook()\n\n...........................................................................\n/home/duncan/anaconda3/lib/python3.5/site-packages/ipykernel/kernelbase.py in execute_request(self=<ipykernel.ipkernel.IPythonKernel object>, stream=<zmq.eventloop.zmqstream.ZMQStream object>, ident=[b'59B7F55993CF46A69D2CBCA44AC64C75'], parent={'buffers': [], 'content': {'allow_stdin': True, 'code': '\"\"\"y, X = dmatrices(\\'churn_label ~ price + C(pre...\\'precision: \\',precision)\\nprint(\\'recall: \\',recall)', 'silent': False, 'stop_on_error': True, 'store_history': True, 'user_expressions': {}}, 'header': {'date': '2016-12-16T17:30:52.941753', 'msg_id': 'ECB29FDFAE5E4C9CB6E084F86F4D5B2D', 'msg_type': 'execute_request', 'session': '59B7F55993CF46A69D2CBCA44AC64C75', 'username': 'username', 'version': '5.0'}, 'metadata': {}, 'msg_id': 'ECB29FDFAE5E4C9CB6E084F86F4D5B2D', 'msg_type': 'execute_request', 'parent_header': {}})\n    386         if not silent:\n    387             self.execution_count += 1\n    388             self._publish_execute_input(code, parent, self.execution_count)\n    389 \n    390         reply_content = self.do_execute(code, silent, store_history,\n--> 391                                         user_expressions, allow_stdin)\n        user_expressions = {}\n        allow_stdin = True\n    392 \n    393         # Flush output before sending the reply.\n    394         sys.stdout.flush()\n    395         sys.stderr.flush()\n\n...........................................................................\n/home/duncan/anaconda3/lib/python3.5/site-packages/ipykernel/ipkernel.py in do_execute(self=<ipykernel.ipkernel.IPythonKernel object>, code='\"\"\"y, X = dmatrices(\\'churn_label ~ price + C(pre...\\'precision: \\',precision)\\nprint(\\'recall: \\',recall)', silent=False, store_history=True, user_expressions={}, allow_stdin=True)\n    194 \n    195         reply_content = {}\n    196         # FIXME: the shell calls the exception handler itself.\n    197         shell._reply_content = None\n    198         try:\n--> 199             shell.run_cell(code, store_history=store_history, silent=silent)\n        shell.run_cell = <bound method InteractiveShell.run_cell of <ipykernel.zmqshell.ZMQInteractiveShell object>>\n        code = '\"\"\"y, X = dmatrices(\\'churn_label ~ price + C(pre...\\'precision: \\',precision)\\nprint(\\'recall: \\',recall)'\n        store_history = True\n        silent = False\n    200         except:\n    201             status = u'error'\n    202             # FIXME: this code right now isn't being used yet by default,\n    203             # because the run_cell() call above directly fires off exception\n\n...........................................................................\n/home/duncan/anaconda3/lib/python3.5/site-packages/IPython/core/interactiveshell.py in run_cell(self=<ipykernel.zmqshell.ZMQInteractiveShell object>, raw_cell='\"\"\"y, X = dmatrices(\\'churn_label ~ price + C(pre...\\'precision: \\',precision)\\nprint(\\'recall: \\',recall)', store_history=True, silent=False, shell_futures=True)\n   2718                 self.displayhook.exec_result = result\n   2719 \n   2720                 # Execute the user code\n   2721                 interactivity = \"none\" if silent else self.ast_node_interactivity\n   2722                 self.run_ast_nodes(code_ast.body, cell_name,\n-> 2723                    interactivity=interactivity, compiler=compiler, result=result)\n        interactivity = 'last_expr'\n        compiler = <IPython.core.compilerop.CachingCompiler object>\n   2724 \n   2725                 # Reset this so later displayed values do not modify the\n   2726                 # ExecutionResult\n   2727                 self.displayhook.exec_result = None\n\n...........................................................................\n/home/duncan/anaconda3/lib/python3.5/site-packages/IPython/core/interactiveshell.py in run_ast_nodes(self=<ipykernel.zmqshell.ZMQInteractiveShell object>, nodelist=[<_ast.Expr object>, <_ast.Assign object>, <_ast.Assign object>, <_ast.Assign object>, <_ast.Assign object>, <_ast.Assign object>, <_ast.Assign object>, <_ast.Assign object>, <_ast.Assign object>, <_ast.Expr object>, <_ast.Expr object>, <_ast.Expr object>], cell_name='<ipython-input-86-d24825be394b>', interactivity='last', compiler=<IPython.core.compilerop.CachingCompiler object>, result=<IPython.core.interactiveshell.ExecutionResult object>)\n   2820 \n   2821         try:\n   2822             for i, node in enumerate(to_run_exec):\n   2823                 mod = ast.Module([node])\n   2824                 code = compiler(mod, cell_name, \"exec\")\n-> 2825                 if self.run_code(code, result):\n        self.run_code = <bound method InteractiveShell.run_code of <ipykernel.zmqshell.ZMQInteractiveShell object>>\n        code = <code object <module> at 0x7fe473466030, file \"<ipython-input-86-d24825be394b>\", line 31>\n        result = <IPython.core.interactiveshell.ExecutionResult object>\n   2826                     return True\n   2827 \n   2828             for i, node in enumerate(to_run_interactive):\n   2829                 mod = ast.Interactive([node])\n\n...........................................................................\n/home/duncan/anaconda3/lib/python3.5/site-packages/IPython/core/interactiveshell.py in run_code(self=<ipykernel.zmqshell.ZMQInteractiveShell object>, code_obj=<code object <module> at 0x7fe473466030, file \"<ipython-input-86-d24825be394b>\", line 31>, result=<IPython.core.interactiveshell.ExecutionResult object>)\n   2880         outflag = 1  # happens in more places, so it's easier as default\n   2881         try:\n   2882             try:\n   2883                 self.hooks.pre_run_code_hook()\n   2884                 #rprint('Running code', repr(code_obj)) # dbg\n-> 2885                 exec(code_obj, self.user_global_ns, self.user_ns)\n        code_obj = <code object <module> at 0x7fe473466030, file \"<ipython-input-86-d24825be394b>\", line 31>\n        self.user_global_ns = {'ExtraTreesClassifier': <class 'sklearn.ensemble.forest.ExtraTreesClassifier'>, 'FontProperties': <class 'matplotlib.font_manager.FontProperties'>, 'HTML': <class 'IPython.core.display.HTML'>, 'In': ['', 'import pandas as pd\\nimport numpy as np\\nimport ma... as xgb\\nfrom sklearn.feature_selection import RFE', 'df = pd.read_pickle(\"./customer_df_with_engineered_features.pkl\")', 'df.head()', 'df.isnull().any()', 'df.shape', 'df.isnull().any()', 'df[df[\"price\"].isnull()]', 'df[df[\"price\"].isnull()][\"price\"]', 'df = pd.read_pickle(\"./customer_df_with_engineered_features.pkl\")', 'df.columns', 'customers_df[(customers_df.account_age_months < ...roupby(\"page_views\")[\"churn_label\"].mean().plot()', 'df[(df.account_age_months < 200)].groupby(\"page_views\")[\"churn_label\"].mean().plot()', 'df[(df.page_views < 1000)].groupby(\"page_views\")[\"churn_label\"].mean().plot()', 'df[(df.page_views < 200)].groupby(\"page_views\")[\"churn_label\"].mean().plot()', 'df.columns', 'df.corr()', 'df[(df.days_since_last_browse < 200)].groupby(\"days_since_last_browse\")[\"churn_label\"].mean().plot()', 'df[(df.days_since_last_browse < 500)].groupby(\"days_since_last_browse\")[\"churn_label\"].mean().plot()', 'df[(df.bought_return_ratio < 500)].groupby(\"days_since_last_browse\")[\"churn_label\"].mean().plot()', ...], 'KNeighborsClassifier': <class 'sklearn.neighbors.classification.KNeighborsClassifier'>, 'LinearSVC': <class 'sklearn.svm.classes.LinearSVC'>, 'LogisticRegression': <class 'sklearn.linear_model.logistic.LogisticRegression'>, 'Out': {3:    customer_id  churn_label gender country      ...                    10.0  \n\n[5 rows x 44 columns], 4: customer_id                False\nchurn_label    ...True\nvisits_last_10000_days      True\ndtype: bool, 5: (470169, 44), 6: customer_id                False\nchurn_label    ...True\nvisits_last_10000_days      True\ndtype: bool, 7:         customer_id  churn_label gender         ...                 3.0  \n\n[10211 rows x 44 columns], 8: 106      NaN\n142      NaN\n174      NaN\n205      ...59   NaN\n466660   NaN\nName: price, dtype: float64, 10: Index(['customer_id', 'churn_label', 'gender', '...      'total_site_visits'],\n      dtype='object'), 12: <matplotlib.axes._subplots.AxesSubplot object>, 13: <matplotlib.axes._subplots.AxesSubplot object>, 14: <matplotlib.axes._subplots.AxesSubplot object>, ...}, 'RFE': <class 'sklearn.feature_selection.rfe.RFE'>, 'RFECV': <class 'sklearn.feature_selection.rfe.RFECV'>, ...}\n        self.user_ns = {'ExtraTreesClassifier': <class 'sklearn.ensemble.forest.ExtraTreesClassifier'>, 'FontProperties': <class 'matplotlib.font_manager.FontProperties'>, 'HTML': <class 'IPython.core.display.HTML'>, 'In': ['', 'import pandas as pd\\nimport numpy as np\\nimport ma... as xgb\\nfrom sklearn.feature_selection import RFE', 'df = pd.read_pickle(\"./customer_df_with_engineered_features.pkl\")', 'df.head()', 'df.isnull().any()', 'df.shape', 'df.isnull().any()', 'df[df[\"price\"].isnull()]', 'df[df[\"price\"].isnull()][\"price\"]', 'df = pd.read_pickle(\"./customer_df_with_engineered_features.pkl\")', 'df.columns', 'customers_df[(customers_df.account_age_months < ...roupby(\"page_views\")[\"churn_label\"].mean().plot()', 'df[(df.account_age_months < 200)].groupby(\"page_views\")[\"churn_label\"].mean().plot()', 'df[(df.page_views < 1000)].groupby(\"page_views\")[\"churn_label\"].mean().plot()', 'df[(df.page_views < 200)].groupby(\"page_views\")[\"churn_label\"].mean().plot()', 'df.columns', 'df.corr()', 'df[(df.days_since_last_browse < 200)].groupby(\"days_since_last_browse\")[\"churn_label\"].mean().plot()', 'df[(df.days_since_last_browse < 500)].groupby(\"days_since_last_browse\")[\"churn_label\"].mean().plot()', 'df[(df.bought_return_ratio < 500)].groupby(\"days_since_last_browse\")[\"churn_label\"].mean().plot()', ...], 'KNeighborsClassifier': <class 'sklearn.neighbors.classification.KNeighborsClassifier'>, 'LinearSVC': <class 'sklearn.svm.classes.LinearSVC'>, 'LogisticRegression': <class 'sklearn.linear_model.logistic.LogisticRegression'>, 'Out': {3:    customer_id  churn_label gender country      ...                    10.0  \n\n[5 rows x 44 columns], 4: customer_id                False\nchurn_label    ...True\nvisits_last_10000_days      True\ndtype: bool, 5: (470169, 44), 6: customer_id                False\nchurn_label    ...True\nvisits_last_10000_days      True\ndtype: bool, 7:         customer_id  churn_label gender         ...                 3.0  \n\n[10211 rows x 44 columns], 8: 106      NaN\n142      NaN\n174      NaN\n205      ...59   NaN\n466660   NaN\nName: price, dtype: float64, 10: Index(['customer_id', 'churn_label', 'gender', '...      'total_site_visits'],\n      dtype='object'), 12: <matplotlib.axes._subplots.AxesSubplot object>, 13: <matplotlib.axes._subplots.AxesSubplot object>, 14: <matplotlib.axes._subplots.AxesSubplot object>, ...}, 'RFE': <class 'sklearn.feature_selection.rfe.RFE'>, 'RFECV': <class 'sklearn.feature_selection.rfe.RFECV'>, ...}\n   2886             finally:\n   2887                 # Reset our crash handler in place\n   2888                 sys.excepthook = old_excepthook\n   2889         except SystemExit as e:\n\n...........................................................................\n/home/duncan/asosdata/<ipython-input-86-d24825be394b> in <module>()\n     26 \n     27 y = np.ravel(y)\n     28 \n     29 #print((cross_val_score(clf, X, y,cv=3,n_jobs=-1)).mean())\n     30 \n---> 31 precision, recall, fscore, support     = cross_val_score(clf, X, y, cv=4,n_jobs=-1, scoring=make_scorer(precision_recall_fscore_support))\n     32 \n     33 #precision = cross_val_score(clf, X, y, cv=4, scoring='precision',n_jobs=-1)\n     34 #recall = cross_val_score(clf, X, y, cv=4, scoring='recall',n_jobs=-1)\n     35 \n\n...........................................................................\n/home/duncan/anaconda3/lib/python3.5/site-packages/sklearn/model_selection/_validation.py in cross_val_score(estimator=RandomForestClassifier(bootstrap=True, class_wei...te=None,\n            verbose=0, warm_start=False), X=array([[ 0.08032193,  0.24709768, -0.36305877, .... -0.07549536,\n        -0.31106567, -0.27816989]]), y=array([1, 0, 0, ..., 1, 0, 1]), groups=None, scoring=make_scorer(precision_recall_fscore_support), cv=StratifiedKFold(n_splits=4, random_state=None, shuffle=False), n_jobs=-1, verbose=0, fit_params=None, pre_dispatch='2*n_jobs')\n    135     parallel = Parallel(n_jobs=n_jobs, verbose=verbose,\n    136                         pre_dispatch=pre_dispatch)\n    137     scores = parallel(delayed(_fit_and_score)(clone(estimator), X, y, scorer,\n    138                                               train, test, verbose, None,\n    139                                               fit_params)\n--> 140                       for train, test in cv_iter)\n        cv_iter = [(array([117368, 117369, 117370, ..., 470166, 470167, 470168]), array([     0,      1,      2, ..., 117625, 117626, 117627])), (array([     0,      1,      2, ..., 470166, 470167, 470168]), array([117368, 117369, 117370, ..., 235339, 235340, 235343])), (array([     0,      1,      2, ..., 470166, 470167, 470168]), array([235012, 235013, 235014, ..., 352823, 352824, 352825])), (array([     0,      1,      2, ..., 352823, 352824, 352825]), array([352428, 352431, 352432, ..., 470166, 470167, 470168]))]\n    141     return np.array(scores)[:, 0]\n    142 \n    143 \n    144 def _fit_and_score(estimator, X, y, scorer, train, test, verbose,\n\n...........................................................................\n/home/duncan/anaconda3/lib/python3.5/site-packages/sklearn/externals/joblib/parallel.py in __call__(self=Parallel(n_jobs=-1), iterable=<generator object cross_val_score.<locals>.<genexpr>>)\n    763             if pre_dispatch == \"all\" or n_jobs == 1:\n    764                 # The iterable was consumed all at once by the above for loop.\n    765                 # No need to wait for async callbacks to trigger to\n    766                 # consumption.\n    767                 self._iterating = False\n--> 768             self.retrieve()\n        self.retrieve = <bound method Parallel.retrieve of Parallel(n_jobs=-1)>\n    769             # Make sure that we get a last message telling us we are done\n    770             elapsed_time = time.time() - self._start_time\n    771             self._print('Done %3i out of %3i | elapsed: %s finished',\n    772                         (len(self._output), len(self._output),\n\n---------------------------------------------------------------------------\nSub-process traceback:\n---------------------------------------------------------------------------\nValueError                                         Fri Dec 16 17:32:12 2016\nPID: 5446                   Python 3.5.2: /home/duncan/anaconda3/bin/python\n...........................................................................\n/home/duncan/anaconda3/lib/python3.5/site-packages/sklearn/externals/joblib/parallel.py in __call__(self=<sklearn.externals.joblib.parallel.BatchedCalls object>)\n    126     def __init__(self, iterator_slice):\n    127         self.items = list(iterator_slice)\n    128         self._size = len(self.items)\n    129 \n    130     def __call__(self):\n--> 131         return [func(*args, **kwargs) for func, args, kwargs in self.items]\n        self.items = [(<function _fit_and_score>, (RandomForestClassifier(bootstrap=True, class_wei...te=None,\n            verbose=0, warm_start=False), memmap([[ 0.08032193,  0.24709768, -0.36305877, ... -0.07549536,\n        -0.31106567, -0.27816989]]), memmap([1, 0, 0, ..., 1, 0, 1]), make_scorer(precision_recall_fscore_support), memmap([117368, 117369, 117370, ..., 470166, 470167, 470168]), array([     0,      1,      2, ..., 117625, 117626, 117627]), 0, None, None), {})]\n    132 \n    133     def __len__(self):\n    134         return self._size\n    135 \n\n...........................................................................\n/home/duncan/anaconda3/lib/python3.5/site-packages/sklearn/externals/joblib/parallel.py in <listcomp>(.0=<list_iterator object>)\n    126     def __init__(self, iterator_slice):\n    127         self.items = list(iterator_slice)\n    128         self._size = len(self.items)\n    129 \n    130     def __call__(self):\n--> 131         return [func(*args, **kwargs) for func, args, kwargs in self.items]\n        func = <function _fit_and_score>\n        args = (RandomForestClassifier(bootstrap=True, class_wei...te=None,\n            verbose=0, warm_start=False), memmap([[ 0.08032193,  0.24709768, -0.36305877, ... -0.07549536,\n        -0.31106567, -0.27816989]]), memmap([1, 0, 0, ..., 1, 0, 1]), make_scorer(precision_recall_fscore_support), memmap([117368, 117369, 117370, ..., 470166, 470167, 470168]), array([     0,      1,      2, ..., 117625, 117626, 117627]), 0, None, None)\n        kwargs = {}\n    132 \n    133     def __len__(self):\n    134         return self._size\n    135 \n\n...........................................................................\n/home/duncan/anaconda3/lib/python3.5/site-packages/sklearn/model_selection/_validation.py in _fit_and_score(estimator=RandomForestClassifier(bootstrap=True, class_wei...te=None,\n            verbose=0, warm_start=False), X=memmap([[ 0.08032193,  0.24709768, -0.36305877, ... -0.07549536,\n        -0.31106567, -0.27816989]]), y=memmap([1, 0, 0, ..., 1, 0, 1]), scorer=make_scorer(precision_recall_fscore_support), train=memmap([117368, 117369, 117370, ..., 470166, 470167, 470168]), test=array([     0,      1,      2, ..., 117625, 117626, 117627]), verbose=0, parameters=None, fit_params={}, return_train_score=False, return_parameters=False, return_n_test_samples=False, return_times=False, error_score='raise')\n    255                              \" numeric value. (Hint: if using 'raise', please\"\n    256                              \" make sure that it has been spelled correctly.)\")\n    257 \n    258     else:\n    259         fit_time = time.time() - start_time\n--> 260         test_score = _score(estimator, X_test, y_test, scorer)\n        test_score = undefined\n        estimator = RandomForestClassifier(bootstrap=True, class_wei...te=None,\n            verbose=0, warm_start=False)\n        X_test = memmap([[  8.03219270e-02,   2.47097681e-01,  -3...953588e-02,   2.36713672e+00,   2.14775890e+00]])\n        y_test = memmap([1, 0, 0, ..., 0, 0, 0])\n        scorer = make_scorer(precision_recall_fscore_support)\n    261         score_time = time.time() - start_time - fit_time\n    262         if return_train_score:\n    263             train_score = _score(estimator, X_train, y_train, scorer)\n    264 \n\n...........................................................................\n/home/duncan/anaconda3/lib/python3.5/site-packages/sklearn/model_selection/_validation.py in _score(estimator=RandomForestClassifier(bootstrap=True, class_wei...te=None,\n            verbose=0, warm_start=False), X_test=memmap([[  8.03219270e-02,   2.47097681e-01,  -3...953588e-02,   2.36713672e+00,   2.14775890e+00]]), y_test=memmap([1, 0, 0, ..., 0, 0, 0]), scorer=make_scorer(precision_recall_fscore_support))\n    293         except ValueError:\n    294             # non-scalar?\n    295             pass\n    296     if not isinstance(score, numbers.Number):\n    297         raise ValueError(\"scoring must return a number, got %s (%s) instead.\"\n--> 298                          % (str(score), type(score)))\n        score = (array([ 0.78507745,  0.71047829]), array([ 0.70504876,  0.78947368]), array([ 0.74291409,  0.74789583]), array([61322, 56221]))\n    299     return score\n    300 \n    301 \n    302 def cross_val_predict(estimator, X, y=None, groups=None, cv=None, n_jobs=1,\n\nValueError: scoring must return a number, got (array([ 0.78507745,  0.71047829]), array([ 0.70504876,  0.78947368]), array([ 0.74291409,  0.74789583]), array([61322, 56221])) (<class 'tuple'>) instead.\n___________________________________________________________________________"
     ]
    }
   ],
   "source": [
    "\"\"\"y, X = dmatrices('churn_label ~ price + C(premier) + account_age \\\n",
    "           + account_age_months + customer_age + time_elapsed_since_last \\\n",
    "           + no_of_orders + orders_last_month + orders_last_2_month \\\n",
    "           + orders_last_3_month + orders_last_6_month + orders_last_year \\\n",
    "           + spent_last_month + spent_last_6_month + spent_last_year \\\n",
    "           + no_returned_items + refunded + cancelled + replaced + rejected \\\n",
    "           + bought_returned_ratio',\n",
    "                  customer_order_sum_df, return_type=\"dataframe\")\n",
    "                  \"\"\"\n",
    "y = df.churn_label\n",
    "\n",
    "X = df.drop(\n",
    "    ['customer_id', 'churn_label', 'gender', 'country', 'date_created',\n",
    "       'YOB', 'premier', 'account_age', 'account_age_months',\n",
    "        'product_id','source_id','division_id','rounded_total_spent'], axis = 1)\n",
    "\n",
    "X = df[opt_logistic_regression]\n",
    "\n",
    "scaler = StandardScaler()\n",
    "X = scaler.fit_transform(X)\n",
    "\n",
    "\n",
    "clf = RandomForestClassifier(n_estimators=50, \n",
    "                             max_depth =14, min_samples_leaf = 11, max_features = 7,\n",
    "                            criterion = 'entropy', min_samples_split = 14, bootstrap = True)\n",
    "\n",
    "#clf = ExtraTreesClassifier()\n",
    "\n",
    "#clf = LogisticRegression(n_jobs=-1)\n",
    "\n",
    "#clf = LinearSVC(tol=0.001)\n",
    "\n",
    "y = np.ravel(y)\n",
    "\n",
    "#print((cross_val_score(clf, X, y,cv=3,n_jobs=-1)).mean())\n",
    "\n",
    "precision, recall, fscore, support \\\n",
    "    = cross_val_score(clf, X, y, cv=4,n_jobs=-1, scoring=make_scorer(precision_recall_fscore_support))\n",
    "\n",
    "#precision = cross_val_score(clf, X, y, cv=4, scoring='precision',n_jobs=-1)\n",
    "#recall = cross_val_score(clf, X, y, cv=4, scoring='recall',n_jobs=-1)\n",
    "\n",
    "print('accuracy: ',accuracy)\n",
    "print('precision: ',precision)\n",
    "print('recall: ',recall)"
   ]
  },
  {
   "cell_type": "code",
   "execution_count": 89,
   "metadata": {
    "collapsed": false
   },
   "outputs": [
    {
     "name": "stdout",
     "output_type": "stream",
     "text": [
      "[ True  True  True  True  True  True  True  True  True  True  True]\n",
      "[1 1 1 1 1 1 1 1 1 1 1]\n",
      "Cell ran in  26.765361070632935\n",
      "Optimal number of features : 11\n"
     ]
    },
    {
     "data": {
      "image/png": "[encoded data removed]",
      "text/plain": [
       "<matplotlib.figure.Figure at 0x7fe4917c90b8>"
      ]
     },
     "metadata": {},
     "output_type": "display_data"
    }
   ],
   "source": [
    "clf = LogisticRegression()\n",
    "start = time()\n",
    "#create the RFECV\n",
    "from sklearn.feature_selection import RFECV\n",
    "rfecv = RFECV(estimator=clf, step=1, scoring='recall', n_jobs=-1)\n",
    "rfecv = rfecv.fit(X,y)\n",
    "#summarize the selection of the attributes\n",
    "print(rfecv.support_)\n",
    "print(rfecv.ranking_)\n",
    "\n",
    "print('Cell ran in ', time() - start)\n",
    "\n",
    "print(\"Optimal number of features : %d\" % rfecv.n_features_)\n",
    "\n",
    "# Plot number of features VS. cross-validation scores\n",
    "plt.figure()\n",
    "plt.xlabel(\"Number of features selected\")\n",
    "plt.ylabel(\"Cross validation score (recall)\")\n",
    "plt.plot(range(1, len(rfecv.grid_scores_) + 1), rfecv.grid_scores_)\n",
    "plt.show()"
   ]
  },
  {
   "cell_type": "code",
   "execution_count": 91,
   "metadata": {
    "collapsed": false
   },
   "outputs": [
    {
     "data": {
      "text/plain": [
       "1"
      ]
     },
     "execution_count": 91,
     "metadata": {},
     "output_type": "execute_result"
    }
   ],
   "source": [
    "rfecv.ranking_[0]"
   ]
  },
  {
   "cell_type": "code",
   "execution_count": 63,
   "metadata": {
    "collapsed": false
   },
   "outputs": [
    {
     "name": "stdout",
     "output_type": "stream",
     "text": [
      "no_returned_items\n",
      "Refund\n",
      "purchased_distinct\n",
      "purchased_total\n",
      "time_elapsed_since_last\n",
      "no_of_orders\n",
      "orders_last_182_days\n",
      "orders_last_92_days\n",
      "orders_last_31_days\n",
      "visits_last_182_days\n",
      "visits_last_92_days\n"
     ]
    }
   ],
   "source": [
    "for i in range(len(rfecv.support_)):\n",
    "    \n",
    "    columns = df.drop(\n",
    "    ['customer_id', 'churn_label', 'gender', 'country', 'date_created',\n",
    "       'YOB', 'premier', 'account_age', 'account_age_months',\n",
    "        'product_id','source_id','division_id','rounded_total_spent'], axis = 1).columns\n",
    "    \n",
    "    if(rfecv.support_[i]):\n",
    "        print(columns[i])"
   ]
  },
  {
   "cell_type": "code",
   "execution_count": null,
   "metadata": {
    "collapsed": true
   },
   "outputs": [],
   "source": [
    "opt_logistic_regression = ['no_returned_items',\n",
    "'Refund',\n",
    "'purchased_distinct',\n",
    "'purchased_total',\n",
    "'time_elapsed_since_last',\n",
    "'no_of_orders',\n",
    "'orders_last_182_days',\n",
    "'orders_last_92_days',\n",
    "'orders_last_31_days',\n",
    "'visits_last_182_days',\n",
    "'visits_last_92_days']"
   ]
  },
  {
   "cell_type": "code",
   "execution_count": 56,
   "metadata": {
    "collapsed": false
   },
   "outputs": [
    {
     "data": {
      "text/plain": [
       "Index(['customer_age', 'no_items_bought', 'total_spent', 'rounded_total_spent',\n",
       "       'no_returned_items', 'Refund', 'Cancel', 'Replacement', 'Reject',\n",
       "       'page_views', 'non_page_view_events', 'saved_for_l8r_prod',\n",
       "       'saved_for_l8r_cat', 'purchased_distinct', 'purchased_total',\n",
       "       'bought_return_ratio', 'time_elapsed_since_last', 'no_of_orders',\n",
       "       'orders_last_365_days', 'orders_last_182_days', 'orders_last_92_days',\n",
       "       'orders_last_31_days', 'spent_last_365_days', 'spent_last_182_days',\n",
       "       'spent_last_92_days', 'spent_last_31_days', 'days_since_last_browse',\n",
       "       'visits_last_365_days', 'visits_last_182_days', 'visits_last_92_days',\n",
       "       'visits_last_31_days', 'total_site_visits'],\n",
       "      dtype='object')"
      ]
     },
     "execution_count": 56,
     "metadata": {},
     "output_type": "execute_result"
    }
   ],
   "source": [
    "df.drop(\n",
    "    ['customer_id', 'churn_label', 'gender', 'country', 'date_created',\n",
    "       'YOB', 'premier', 'account_age', 'account_age_months',\n",
    "        'product_id','source_id','division_id'], axis = 1).columns"
   ]
  },
  {
   "cell_type": "code",
   "execution_count": null,
   "metadata": {
    "collapsed": true
   },
   "outputs": [],
   "source": [
    "['no_returned_items', 'Refund', \n",
    "       'page_views', 'non_page_view_events', 'saved_for_l8r_prod',\n",
    "       'saved_for_l8r_cat', 'purchased_distinct', 'purchased_total',\n",
    "       'bought_return_ratio', 'time_elapsed_since_last', 'no_of_orders',\n",
    "       'orders_last_365_days', 'orders_last_182_days', 'orders_last_92_days',\n",
    "       'orders_last_31_days', 'spent_last_365_days', 'spent_last_182_days',\n",
    "       'spent_last_92_days', 'spent_last_31_days', 'days_since_last_browse',\n",
    "       'visits_last_365_days', 'visits_last_182_days', 'visits_last_92_days',\n",
    "       'visits_last_31_days', 'total_site_visits'],\n",
    "      dtype='object'"
   ]
  },
  {
   "cell_type": "code",
   "execution_count": null,
   "metadata": {
    "collapsed": true
   },
   "outputs": [],
   "source": [
    "[True  True False False False False False False\n",
    " False  True  True False  True  True False  True  True  True False False\n",
    " False False False False  True  True False False]"
   ]
  },
  {
   "cell_type": "code",
   "execution_count": 69,
   "metadata": {
    "collapsed": false
   },
   "outputs": [
    {
     "name": "stdout",
     "output_type": "stream",
     "text": [
      "[False False False  True  True False False False False False False False\n",
      "  True  True False  True  True False  True  True  True False False False\n",
      " False False False  True  True False False]\n",
      "[ 3 18 12  1  1  9 10 16  6  5  2 13  1  1  4  1  1 11  1  1  1 17 19 20 15\n",
      " 21 14  1  1  7  8]\n",
      "Cell ran in  7972.885832071304\n",
      "Optimal number of features : 11\n"
     ]
    },
    {
     "data": {
      "image/png": "[encoded data removed]",
      "text/plain": [
       "<matplotlib.figure.Figure at 0x7fe473262438>"
      ]
     },
     "metadata": {},
     "output_type": "display_data"
    }
   ],
   "source": [
    "clf = LinearSVC(tol=0.001)\n",
    "start = time()\n",
    "#create the RFECV\n",
    "from sklearn.feature_selection import RFECV\n",
    "rfecv = RFECV(estimator=clf, step=1, scoring='recall', n_jobs=-1)\n",
    "rfecv = rfecv.fit(X,y)\n",
    "#summarize the selection of the attributes\n",
    "print(rfecv.support_)\n",
    "print(rfecv.ranking_)\n",
    "\n",
    "print('Cell ran in ', time() - start)\n",
    "\n",
    "print(\"Optimal number of features : %d\" % rfecv.n_features_)\n",
    "\n",
    "# Plot number of features VS. cross-validation scores\n",
    "plt.figure()\n",
    "plt.xlabel(\"Number of features selected\")\n",
    "plt.ylabel(\"Cross validation score (recall)\")\n",
    "plt.plot(range(1, len(rfecv.grid_scores_) + 1), rfecv.grid_scores_)\n",
    "plt.show()"
   ]
  },
  {
   "cell_type": "code",
   "execution_count": 71,
   "metadata": {
    "collapsed": false
   },
   "outputs": [
    {
     "name": "stdout",
     "output_type": "stream",
     "text": [
      "[False False False  True  True False False False False False False False\n",
      "  True  True False  True  True False  True  True  True False False False\n",
      " False False False  True  True False False]\n"
     ]
    }
   ],
   "source": [
    "print(rfecv.support_)"
   ]
  },
  {
   "cell_type": "code",
   "execution_count": 87,
   "metadata": {
    "collapsed": false
   },
   "outputs": [
    {
     "data": {
      "text/plain": [
       "array([ 0.01312013,  0.01061225,  0.03998125,  0.02439902,  0.42351126,\n",
       "        0.30134017,  0.07209538,  0.01329118,  0.00044643,  0.04951311,\n",
       "        0.05168982])"
      ]
     },
     "execution_count": 87,
     "metadata": {},
     "output_type": "execute_result"
    }
   ],
   "source": [
    "forest.feature_importances_"
   ]
  },
  {
   "cell_type": "code",
   "execution_count": 80,
   "metadata": {
    "collapsed": false
   },
   "outputs": [
    {
     "name": "stdout",
     "output_type": "stream",
     "text": [
      "Feature ranking:\n",
      "1. feature 4 (0.423511)\n",
      "2. feature 5 (0.301340)\n",
      "3. feature 6 (0.072095)\n",
      "4. feature 10 (0.051690)\n",
      "5. feature 9 (0.049513)\n",
      "6. feature 2 (0.039981)\n",
      "7. feature 3 (0.024399)\n",
      "8. feature 7 (0.013291)\n",
      "9. feature 0 (0.013120)\n",
      "10. feature 1 (0.010612)\n",
      "11. feature 8 (0.000446)\n"
     ]
    },
    {
     "data": {
      "image/png": "[encoded data removed]",
      "text/plain": [
       "<matplotlib.figure.Figure at 0x7fe473fec438>"
      ]
     },
     "metadata": {},
     "output_type": "display_data"
    }
   ],
   "source": [
    "forest = RandomForestClassifier(n_estimators=50, \n",
    "                             max_depth =14, min_samples_leaf = 11, max_features = 7,\n",
    "                            criterion = 'entropy', min_samples_split = 14, bootstrap = True)\n",
    "\n",
    "forest.fit(X, y)\n",
    "importances = forest.feature_importances_\n",
    "\n",
    "std = np.std([tree.feature_importances_ for tree in forest.estimators_],\n",
    "             axis=0)\n",
    "indices = np.argsort(importances)[::-1]\n",
    "\n",
    "# Print the feature ranking\n",
    "print(\"Feature ranking:\")\n",
    "\n",
    "for f in range(X.shape[1]):\n",
    "    print(\"%d. feature %d (%f)\" % (f + 1, indices[f], importances[indices[f]]))\n",
    "\n",
    "# Plot the feature importances of the forest\n",
    "plt.figure()\n",
    "plt.title(\"Feature importances\")\n",
    "plt.bar(range(X.shape[1]), importances[indices],\n",
    "       color=\"r\", yerr=std[indices], align=\"center\")\n",
    "plt.xticks(range(X.shape[1]), indices)\n",
    "plt.xlim([-1, X.shape[1]])\n",
    "plt.show()"
   ]
  },
  {
   "cell_type": "code",
   "execution_count": 95,
   "metadata": {
    "collapsed": false
   },
   "outputs": [
    {
     "data": {
      "text/plain": [
       "Index(['customer_age', 'no_items_bought', 'total_spent', 'no_returned_items',\n",
       "       'Refund', 'Cancel', 'Replacement', 'Reject', 'page_views',\n",
       "       'non_page_view_events', 'saved_for_l8r_prod', 'saved_for_l8r_cat',\n",
       "       'purchased_distinct', 'purchased_total', 'bought_return_ratio',\n",
       "       'time_elapsed_since_last', 'no_of_orders', 'orders_last_365_days',\n",
       "       'orders_last_182_days', 'orders_last_92_days', 'orders_last_31_days',\n",
       "       'spent_last_365_days', 'spent_last_182_days', 'spent_last_92_days',\n",
       "       'spent_last_31_days', 'days_since_last_browse', 'visits_last_365_days',\n",
       "       'visits_last_182_days', 'visits_last_92_days', 'visits_last_31_days',\n",
       "       'total_site_visits'],\n",
       "      dtype='object')"
      ]
     },
     "execution_count": 95,
     "metadata": {},
     "output_type": "execute_result"
    }
   ],
   "source": [
    "columns"
   ]
  },
  {
   "cell_type": "code",
   "execution_count": 70,
   "metadata": {
    "collapsed": false
   },
   "outputs": [
    {
     "name": "stdout",
     "output_type": "stream",
     "text": [
      "no_returned_items\n",
      "Refund\n",
      "purchased_distinct\n",
      "purchased_total\n",
      "time_elapsed_since_last\n",
      "no_of_orders\n",
      "orders_last_182_days\n",
      "orders_last_92_days\n",
      "orders_last_31_days\n",
      "visits_last_182_days\n",
      "visits_last_92_days\n"
     ]
    }
   ],
   "source": [
    "for i in range(len(rfecv.support_)):\n",
    "    \n",
    "    columns = df.drop(\n",
    "    ['customer_id', 'churn_label', 'gender', 'country', 'date_created',\n",
    "       'YOB', 'premier', 'account_age', 'account_age_months',\n",
    "        'product_id','source_id','division_id','rounded_total_spent'], axis = 1).columns\n",
    "    \n",
    "    if(rfecv.support_[i]):\n",
    "        print(columns[i])"
   ]
  },
  {
   "cell_type": "code",
   "execution_count": 77,
   "metadata": {
    "collapsed": false
   },
   "outputs": [
    {
     "data": {
      "text/plain": [
       "Index(['customer_age', 'no_items_bought', 'total_spent', 'no_returned_items',\n",
       "       'Refund', 'Cancel', 'Replacement', 'Reject', 'page_views',\n",
       "       'non_page_view_events', 'saved_for_l8r_prod', 'saved_for_l8r_cat',\n",
       "       'purchased_distinct', 'purchased_total', 'bought_return_ratio',\n",
       "       'time_elapsed_since_last', 'no_of_orders', 'orders_last_365_days',\n",
       "       'orders_last_182_days', 'orders_last_92_days', 'orders_last_31_days',\n",
       "       'spent_last_365_days', 'spent_last_182_days', 'spent_last_92_days',\n",
       "       'spent_last_31_days', 'days_since_last_browse', 'visits_last_365_days',\n",
       "       'visits_last_182_days', 'visits_last_92_days', 'visits_last_31_days',\n",
       "       'total_site_visits'],\n",
       "      dtype='object')"
      ]
     },
     "execution_count": 77,
     "metadata": {},
     "output_type": "execute_result"
    }
   ],
   "source": [
    "columns"
   ]
  },
  {
   "cell_type": "code",
   "execution_count": 88,
   "metadata": {
    "collapsed": false
   },
   "outputs": [
    {
     "ename": "AttributeError",
     "evalue": "'RFECV' object has no attribute 'ranking_'",
     "output_type": "error",
     "traceback": [
      "\u001b[1;31m---------------------------------------------------------------------------\u001b[0m",
      "\u001b[1;31mAttributeError\u001b[0m                            Traceback (most recent call last)",
      "\u001b[1;32m<ipython-input-88-5a0f1df67c92>\u001b[0m in \u001b[0;36m<module>\u001b[1;34m()\u001b[0m\n\u001b[1;32m----> 1\u001b[1;33m \u001b[0mrfecv\u001b[0m\u001b[1;33m.\u001b[0m\u001b[0mranking_\u001b[0m\u001b[1;33m\u001b[0m\u001b[0m\n\u001b[0m",
      "\u001b[1;31mAttributeError\u001b[0m: 'RFECV' object has no attribute 'ranking_'"
     ]
    }
   ],
   "source": [
    "rfecv.ranking_"
   ]
  },
  {
   "cell_type": "code",
   "execution_count": 101,
   "metadata": {
    "collapsed": false
   },
   "outputs": [
    {
     "data": {
      "text/plain": [
       "GridSearchCV(cv=None, error_score='raise',\n",
       "       estimator=LogisticRegression(C=1.0, class_weight=None, dual=False, fit_intercept=True,\n",
       "          intercept_scaling=1, max_iter=100, multi_class='ovr', n_jobs=1,\n",
       "          penalty='l2', random_state=None, solver='liblinear', tol=0.0001,\n",
       "          verbose=0, warm_start=False),\n",
       "       fit_params={}, iid=True, n_jobs=1,\n",
       "       param_grid={'C': [0.001, 0.01, 0.1, 1, 10, 100, 1000], 'penalty': ['l1', 'l2']},\n",
       "       pre_dispatch='2*n_jobs', refit=True, return_train_score=True,\n",
       "       scoring='recall', verbose=0)"
      ]
     },
     "execution_count": 101,
     "metadata": {},
     "output_type": "execute_result"
    }
   ],
   "source": [
    "from sklearn.model_selection import GridSearchCV\n",
    "\n",
    "GS = GridSearchCV(cv=None,\n",
    "       estimator=LogisticRegression(C=1.0, intercept_scaling=1, dual=False, fit_intercept=True,\n",
    "          penalty='l2', tol=0.0001),\n",
    "       param_grid={'C': [0.001, 0.01, 0.1, 1, 10, 100, 1000],\n",
    "                  'penalty' : ['l1','l2'],\n",
    "                  },scoring='recall')\n",
    "\n",
    "GS.fit(X,y)"
   ]
  },
  {
   "cell_type": "code",
   "execution_count": 102,
   "metadata": {
    "collapsed": false
   },
   "outputs": [
    {
     "name": "stdout",
     "output_type": "stream",
     "text": [
      "Best parameters set found on development set:\n",
      "\n",
      "{'C': 0.001, 'penalty': 'l1'}\n",
      "\n",
      "Grid scores on development set:\n",
      "\n",
      "0.831 (+/-0.024) for {'C': 0.001, 'penalty': 'l1'}\n",
      "0.828 (+/-0.022) for {'C': 0.001, 'penalty': 'l2'}\n",
      "0.825 (+/-0.024) for {'C': 0.01, 'penalty': 'l1'}\n",
      "0.824 (+/-0.024) for {'C': 0.01, 'penalty': 'l2'}\n",
      "0.824 (+/-0.024) for {'C': 0.1, 'penalty': 'l1'}\n",
      "0.824 (+/-0.024) for {'C': 0.1, 'penalty': 'l2'}\n",
      "0.824 (+/-0.024) for {'C': 1, 'penalty': 'l1'}\n",
      "0.824 (+/-0.024) for {'C': 1, 'penalty': 'l2'}\n",
      "0.824 (+/-0.024) for {'C': 10, 'penalty': 'l1'}\n",
      "0.824 (+/-0.024) for {'C': 10, 'penalty': 'l2'}\n",
      "0.824 (+/-0.024) for {'C': 100, 'penalty': 'l1'}\n",
      "0.824 (+/-0.024) for {'C': 100, 'penalty': 'l2'}\n",
      "0.824 (+/-0.024) for {'C': 1000, 'penalty': 'l1'}\n",
      "0.824 (+/-0.024) for {'C': 1000, 'penalty': 'l2'}\n",
      "\n"
     ]
    }
   ],
   "source": [
    "print(\"Best parameters set found on development set:\")\n",
    "print()\n",
    "print(GS.best_params_)\n",
    "print()\n",
    "print(\"Grid scores on development set:\")\n",
    "print()\n",
    "means = GS.cv_results_['mean_test_score']\n",
    "stds = GS.cv_results_['std_test_score']\n",
    "for mean, std, params in zip(means, stds, GS.cv_results_['params']):\n",
    "    print(\"%0.3f (+/-%0.03f) for %r\"\n",
    "          % (mean, std * 2, params))\n",
    "print()\n"
   ]
  },
  {
   "cell_type": "code",
   "execution_count": null,
   "metadata": {
    "collapsed": true
   },
   "outputs": [],
   "source": []
  }
 ],
 "metadata": {
  "anaconda-cloud": {},
  "kernelspec": {
   "display_name": "Python [Root]",
   "language": "python",
   "name": "Python [Root]"
  },
  "language_info": {
   "codemirror_mode": {
    "name": "ipython",
    "version": 3
   },
   "file_extension": ".py",
   "mimetype": "text/x-python",
   "name": "python",
   "nbconvert_exporter": "python",
   "pygments_lexer": "ipython3",
   "version": "3.5.2"
  }
 },
 "nbformat": 4,
 "nbformat_minor": 0
}
